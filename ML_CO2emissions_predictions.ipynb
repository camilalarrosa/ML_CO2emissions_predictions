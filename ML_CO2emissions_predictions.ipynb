{
  "nbformat": 4,
  "nbformat_minor": 0,
  "metadata": {
    "colab": {
      "name": "ML-CO2emissions-predictions.ipynb",
      "provenance": [],
      "toc_visible": true,
      "authorship_tag": "ABX9TyOc1wDZAnJuHK++KE3Ld3nr",
      "include_colab_link": true
    },
    "kernelspec": {
      "name": "python3",
      "display_name": "Python 3"
    },
    "language_info": {
      "name": "python"
    }
  },
  "cells": [
    {
      "cell_type": "markdown",
      "metadata": {
        "id": "view-in-github",
        "colab_type": "text"
      },
      "source": [
        "<a href=\"https://colab.research.google.com/github/camilalarrosa/ML_CO2emissions_predictions/blob/main/ML_CO2emissions_predictions.ipynb\" target=\"_parent\"><img src=\"https://colab.research.google.com/assets/colab-badge.svg\" alt=\"Open In Colab\"/></a>"
      ]
    },
    {
      "cell_type": "code",
      "execution_count": 38,
      "metadata": {
        "id": "q1allWyulKzj"
      },
      "outputs": [],
      "source": [
        "import pandas as pd\n",
        "import numpy as np\n",
        "import seaborn as sns\n",
        "import matplotlib.pyplot as plt "
      ]
    },
    {
      "cell_type": "code",
      "source": [
        "data = pd.read_csv('/content/sample_data/FuelConsumptionCo2.csv')"
      ],
      "metadata": {
        "id": "3giaIG9vlcln"
      },
      "execution_count": 47,
      "outputs": []
    },
    {
      "cell_type": "markdown",
      "source": [
        "# Data exploration"
      ],
      "metadata": {
        "id": "mZHfQtIHmGsT"
      }
    },
    {
      "cell_type": "code",
      "source": [
        "data.head()"
      ],
      "metadata": {
        "colab": {
          "base_uri": "https://localhost:8080/",
          "height": 322
        },
        "id": "7s8j7wSClnpc",
        "outputId": "b8b3299a-a2ca-4308-c2d0-d495e9594f59"
      },
      "execution_count": 26,
      "outputs": [
        {
          "output_type": "execute_result",
          "data": {
            "text/plain": [
              "   MODELYEAR   MAKE       MODEL VEHICLECLASS  ENGINESIZE  CYLINDERS  \\\n",
              "0       2014  ACURA         ILX      COMPACT         2.0          4   \n",
              "1       2014  ACURA         ILX      COMPACT         2.4          4   \n",
              "2       2014  ACURA  ILX HYBRID      COMPACT         1.5          4   \n",
              "3       2014  ACURA     MDX 4WD  SUV - SMALL         3.5          6   \n",
              "4       2014  ACURA     RDX AWD  SUV - SMALL         3.5          6   \n",
              "\n",
              "  TRANSMISSION FUELTYPE  FUELCONSUMPTION_CITY  FUELCONSUMPTION_HWY  \\\n",
              "0          AS5        Z                   9.9                  6.7   \n",
              "1           M6        Z                  11.2                  7.7   \n",
              "2          AV7        Z                   6.0                  5.8   \n",
              "3          AS6        Z                  12.7                  9.1   \n",
              "4          AS6        Z                  12.1                  8.7   \n",
              "\n",
              "   FUELCONSUMPTION_COMB  FUELCONSUMPTION_COMB_MPG  CO2EMISSIONS  \n",
              "0                   8.5                        33           196  \n",
              "1                   9.6                        29           221  \n",
              "2                   5.9                        48           136  \n",
              "3                  11.1                        25           255  \n",
              "4                  10.6                        27           244  "
            ],
            "text/html": [
              "\n",
              "  <div id=\"df-8a851537-855a-481f-8a41-295f7fee342d\">\n",
              "    <div class=\"colab-df-container\">\n",
              "      <div>\n",
              "<style scoped>\n",
              "    .dataframe tbody tr th:only-of-type {\n",
              "        vertical-align: middle;\n",
              "    }\n",
              "\n",
              "    .dataframe tbody tr th {\n",
              "        vertical-align: top;\n",
              "    }\n",
              "\n",
              "    .dataframe thead th {\n",
              "        text-align: right;\n",
              "    }\n",
              "</style>\n",
              "<table border=\"1\" class=\"dataframe\">\n",
              "  <thead>\n",
              "    <tr style=\"text-align: right;\">\n",
              "      <th></th>\n",
              "      <th>MODELYEAR</th>\n",
              "      <th>MAKE</th>\n",
              "      <th>MODEL</th>\n",
              "      <th>VEHICLECLASS</th>\n",
              "      <th>ENGINESIZE</th>\n",
              "      <th>CYLINDERS</th>\n",
              "      <th>TRANSMISSION</th>\n",
              "      <th>FUELTYPE</th>\n",
              "      <th>FUELCONSUMPTION_CITY</th>\n",
              "      <th>FUELCONSUMPTION_HWY</th>\n",
              "      <th>FUELCONSUMPTION_COMB</th>\n",
              "      <th>FUELCONSUMPTION_COMB_MPG</th>\n",
              "      <th>CO2EMISSIONS</th>\n",
              "    </tr>\n",
              "  </thead>\n",
              "  <tbody>\n",
              "    <tr>\n",
              "      <th>0</th>\n",
              "      <td>2014</td>\n",
              "      <td>ACURA</td>\n",
              "      <td>ILX</td>\n",
              "      <td>COMPACT</td>\n",
              "      <td>2.0</td>\n",
              "      <td>4</td>\n",
              "      <td>AS5</td>\n",
              "      <td>Z</td>\n",
              "      <td>9.9</td>\n",
              "      <td>6.7</td>\n",
              "      <td>8.5</td>\n",
              "      <td>33</td>\n",
              "      <td>196</td>\n",
              "    </tr>\n",
              "    <tr>\n",
              "      <th>1</th>\n",
              "      <td>2014</td>\n",
              "      <td>ACURA</td>\n",
              "      <td>ILX</td>\n",
              "      <td>COMPACT</td>\n",
              "      <td>2.4</td>\n",
              "      <td>4</td>\n",
              "      <td>M6</td>\n",
              "      <td>Z</td>\n",
              "      <td>11.2</td>\n",
              "      <td>7.7</td>\n",
              "      <td>9.6</td>\n",
              "      <td>29</td>\n",
              "      <td>221</td>\n",
              "    </tr>\n",
              "    <tr>\n",
              "      <th>2</th>\n",
              "      <td>2014</td>\n",
              "      <td>ACURA</td>\n",
              "      <td>ILX HYBRID</td>\n",
              "      <td>COMPACT</td>\n",
              "      <td>1.5</td>\n",
              "      <td>4</td>\n",
              "      <td>AV7</td>\n",
              "      <td>Z</td>\n",
              "      <td>6.0</td>\n",
              "      <td>5.8</td>\n",
              "      <td>5.9</td>\n",
              "      <td>48</td>\n",
              "      <td>136</td>\n",
              "    </tr>\n",
              "    <tr>\n",
              "      <th>3</th>\n",
              "      <td>2014</td>\n",
              "      <td>ACURA</td>\n",
              "      <td>MDX 4WD</td>\n",
              "      <td>SUV - SMALL</td>\n",
              "      <td>3.5</td>\n",
              "      <td>6</td>\n",
              "      <td>AS6</td>\n",
              "      <td>Z</td>\n",
              "      <td>12.7</td>\n",
              "      <td>9.1</td>\n",
              "      <td>11.1</td>\n",
              "      <td>25</td>\n",
              "      <td>255</td>\n",
              "    </tr>\n",
              "    <tr>\n",
              "      <th>4</th>\n",
              "      <td>2014</td>\n",
              "      <td>ACURA</td>\n",
              "      <td>RDX AWD</td>\n",
              "      <td>SUV - SMALL</td>\n",
              "      <td>3.5</td>\n",
              "      <td>6</td>\n",
              "      <td>AS6</td>\n",
              "      <td>Z</td>\n",
              "      <td>12.1</td>\n",
              "      <td>8.7</td>\n",
              "      <td>10.6</td>\n",
              "      <td>27</td>\n",
              "      <td>244</td>\n",
              "    </tr>\n",
              "  </tbody>\n",
              "</table>\n",
              "</div>\n",
              "      <button class=\"colab-df-convert\" onclick=\"convertToInteractive('df-8a851537-855a-481f-8a41-295f7fee342d')\"\n",
              "              title=\"Convert this dataframe to an interactive table.\"\n",
              "              style=\"display:none;\">\n",
              "        \n",
              "  <svg xmlns=\"http://www.w3.org/2000/svg\" height=\"24px\"viewBox=\"0 0 24 24\"\n",
              "       width=\"24px\">\n",
              "    <path d=\"M0 0h24v24H0V0z\" fill=\"none\"/>\n",
              "    <path d=\"M18.56 5.44l.94 2.06.94-2.06 2.06-.94-2.06-.94-.94-2.06-.94 2.06-2.06.94zm-11 1L8.5 8.5l.94-2.06 2.06-.94-2.06-.94L8.5 2.5l-.94 2.06-2.06.94zm10 10l.94 2.06.94-2.06 2.06-.94-2.06-.94-.94-2.06-.94 2.06-2.06.94z\"/><path d=\"M17.41 7.96l-1.37-1.37c-.4-.4-.92-.59-1.43-.59-.52 0-1.04.2-1.43.59L10.3 9.45l-7.72 7.72c-.78.78-.78 2.05 0 2.83L4 21.41c.39.39.9.59 1.41.59.51 0 1.02-.2 1.41-.59l7.78-7.78 2.81-2.81c.8-.78.8-2.07 0-2.86zM5.41 20L4 18.59l7.72-7.72 1.47 1.35L5.41 20z\"/>\n",
              "  </svg>\n",
              "      </button>\n",
              "      \n",
              "  <style>\n",
              "    .colab-df-container {\n",
              "      display:flex;\n",
              "      flex-wrap:wrap;\n",
              "      gap: 12px;\n",
              "    }\n",
              "\n",
              "    .colab-df-convert {\n",
              "      background-color: #E8F0FE;\n",
              "      border: none;\n",
              "      border-radius: 50%;\n",
              "      cursor: pointer;\n",
              "      display: none;\n",
              "      fill: #1967D2;\n",
              "      height: 32px;\n",
              "      padding: 0 0 0 0;\n",
              "      width: 32px;\n",
              "    }\n",
              "\n",
              "    .colab-df-convert:hover {\n",
              "      background-color: #E2EBFA;\n",
              "      box-shadow: 0px 1px 2px rgba(60, 64, 67, 0.3), 0px 1px 3px 1px rgba(60, 64, 67, 0.15);\n",
              "      fill: #174EA6;\n",
              "    }\n",
              "\n",
              "    [theme=dark] .colab-df-convert {\n",
              "      background-color: #3B4455;\n",
              "      fill: #D2E3FC;\n",
              "    }\n",
              "\n",
              "    [theme=dark] .colab-df-convert:hover {\n",
              "      background-color: #434B5C;\n",
              "      box-shadow: 0px 1px 3px 1px rgba(0, 0, 0, 0.15);\n",
              "      filter: drop-shadow(0px 1px 2px rgba(0, 0, 0, 0.3));\n",
              "      fill: #FFFFFF;\n",
              "    }\n",
              "  </style>\n",
              "\n",
              "      <script>\n",
              "        const buttonEl =\n",
              "          document.querySelector('#df-8a851537-855a-481f-8a41-295f7fee342d button.colab-df-convert');\n",
              "        buttonEl.style.display =\n",
              "          google.colab.kernel.accessAllowed ? 'block' : 'none';\n",
              "\n",
              "        async function convertToInteractive(key) {\n",
              "          const element = document.querySelector('#df-8a851537-855a-481f-8a41-295f7fee342d');\n",
              "          const dataTable =\n",
              "            await google.colab.kernel.invokeFunction('convertToInteractive',\n",
              "                                                     [key], {});\n",
              "          if (!dataTable) return;\n",
              "\n",
              "          const docLinkHtml = 'Like what you see? Visit the ' +\n",
              "            '<a target=\"_blank\" href=https://colab.research.google.com/notebooks/data_table.ipynb>data table notebook</a>'\n",
              "            + ' to learn more about interactive tables.';\n",
              "          element.innerHTML = '';\n",
              "          dataTable['output_type'] = 'display_data';\n",
              "          await google.colab.output.renderOutput(dataTable, element);\n",
              "          const docLink = document.createElement('div');\n",
              "          docLink.innerHTML = docLinkHtml;\n",
              "          element.appendChild(docLink);\n",
              "        }\n",
              "      </script>\n",
              "    </div>\n",
              "  </div>\n",
              "  "
            ]
          },
          "metadata": {},
          "execution_count": 26
        }
      ]
    },
    {
      "cell_type": "code",
      "source": [
        "data.tail()"
      ],
      "metadata": {
        "colab": {
          "base_uri": "https://localhost:8080/",
          "height": 357
        },
        "id": "ugebFqCDFPKn",
        "outputId": "668be29d-7e59-4c26-f66a-0b9db0a49bc2"
      },
      "execution_count": 42,
      "outputs": [
        {
          "output_type": "execute_result",
          "data": {
            "text/plain": [
              "      MODELYEAR   MAKE     MODEL    VEHICLECLASS  ENGINESIZE  CYLINDERS  \\\n",
              "1062       2014  VOLVO  XC60 AWD     SUV - SMALL         3.0          6   \n",
              "1063       2014  VOLVO  XC60 AWD     SUV - SMALL         3.2          6   \n",
              "1064       2014  VOLVO  XC70 AWD     SUV - SMALL         3.0          6   \n",
              "1065       2014  VOLVO  XC70 AWD     SUV - SMALL         3.2          6   \n",
              "1066       2014  VOLVO  XC90 AWD  SUV - STANDARD         3.2          6   \n",
              "\n",
              "     TRANSMISSION FUELTYPE  FUELCONSUMPTION_CITY  FUELCONSUMPTION_HWY  \\\n",
              "1062          AS6        X                  13.4                  9.8   \n",
              "1063          AS6        X                  13.2                  9.5   \n",
              "1064          AS6        X                  13.4                  9.8   \n",
              "1065          AS6        X                  12.9                  9.3   \n",
              "1066          AS6        X                  14.9                 10.2   \n",
              "\n",
              "      FUELCONSUMPTION_COMB  FUELCONSUMPTION_COMB_MPG  CO2EMISSIONS  \n",
              "1062                  11.8                        24           271  \n",
              "1063                  11.5                        25           264  \n",
              "1064                  11.8                        24           271  \n",
              "1065                  11.3                        25           260  \n",
              "1066                  12.8                        22           294  "
            ],
            "text/html": [
              "\n",
              "  <div id=\"df-9dd9411b-b4e4-49c8-9f61-7ad778015ffa\">\n",
              "    <div class=\"colab-df-container\">\n",
              "      <div>\n",
              "<style scoped>\n",
              "    .dataframe tbody tr th:only-of-type {\n",
              "        vertical-align: middle;\n",
              "    }\n",
              "\n",
              "    .dataframe tbody tr th {\n",
              "        vertical-align: top;\n",
              "    }\n",
              "\n",
              "    .dataframe thead th {\n",
              "        text-align: right;\n",
              "    }\n",
              "</style>\n",
              "<table border=\"1\" class=\"dataframe\">\n",
              "  <thead>\n",
              "    <tr style=\"text-align: right;\">\n",
              "      <th></th>\n",
              "      <th>MODELYEAR</th>\n",
              "      <th>MAKE</th>\n",
              "      <th>MODEL</th>\n",
              "      <th>VEHICLECLASS</th>\n",
              "      <th>ENGINESIZE</th>\n",
              "      <th>CYLINDERS</th>\n",
              "      <th>TRANSMISSION</th>\n",
              "      <th>FUELTYPE</th>\n",
              "      <th>FUELCONSUMPTION_CITY</th>\n",
              "      <th>FUELCONSUMPTION_HWY</th>\n",
              "      <th>FUELCONSUMPTION_COMB</th>\n",
              "      <th>FUELCONSUMPTION_COMB_MPG</th>\n",
              "      <th>CO2EMISSIONS</th>\n",
              "    </tr>\n",
              "  </thead>\n",
              "  <tbody>\n",
              "    <tr>\n",
              "      <th>1062</th>\n",
              "      <td>2014</td>\n",
              "      <td>VOLVO</td>\n",
              "      <td>XC60 AWD</td>\n",
              "      <td>SUV - SMALL</td>\n",
              "      <td>3.0</td>\n",
              "      <td>6</td>\n",
              "      <td>AS6</td>\n",
              "      <td>X</td>\n",
              "      <td>13.4</td>\n",
              "      <td>9.8</td>\n",
              "      <td>11.8</td>\n",
              "      <td>24</td>\n",
              "      <td>271</td>\n",
              "    </tr>\n",
              "    <tr>\n",
              "      <th>1063</th>\n",
              "      <td>2014</td>\n",
              "      <td>VOLVO</td>\n",
              "      <td>XC60 AWD</td>\n",
              "      <td>SUV - SMALL</td>\n",
              "      <td>3.2</td>\n",
              "      <td>6</td>\n",
              "      <td>AS6</td>\n",
              "      <td>X</td>\n",
              "      <td>13.2</td>\n",
              "      <td>9.5</td>\n",
              "      <td>11.5</td>\n",
              "      <td>25</td>\n",
              "      <td>264</td>\n",
              "    </tr>\n",
              "    <tr>\n",
              "      <th>1064</th>\n",
              "      <td>2014</td>\n",
              "      <td>VOLVO</td>\n",
              "      <td>XC70 AWD</td>\n",
              "      <td>SUV - SMALL</td>\n",
              "      <td>3.0</td>\n",
              "      <td>6</td>\n",
              "      <td>AS6</td>\n",
              "      <td>X</td>\n",
              "      <td>13.4</td>\n",
              "      <td>9.8</td>\n",
              "      <td>11.8</td>\n",
              "      <td>24</td>\n",
              "      <td>271</td>\n",
              "    </tr>\n",
              "    <tr>\n",
              "      <th>1065</th>\n",
              "      <td>2014</td>\n",
              "      <td>VOLVO</td>\n",
              "      <td>XC70 AWD</td>\n",
              "      <td>SUV - SMALL</td>\n",
              "      <td>3.2</td>\n",
              "      <td>6</td>\n",
              "      <td>AS6</td>\n",
              "      <td>X</td>\n",
              "      <td>12.9</td>\n",
              "      <td>9.3</td>\n",
              "      <td>11.3</td>\n",
              "      <td>25</td>\n",
              "      <td>260</td>\n",
              "    </tr>\n",
              "    <tr>\n",
              "      <th>1066</th>\n",
              "      <td>2014</td>\n",
              "      <td>VOLVO</td>\n",
              "      <td>XC90 AWD</td>\n",
              "      <td>SUV - STANDARD</td>\n",
              "      <td>3.2</td>\n",
              "      <td>6</td>\n",
              "      <td>AS6</td>\n",
              "      <td>X</td>\n",
              "      <td>14.9</td>\n",
              "      <td>10.2</td>\n",
              "      <td>12.8</td>\n",
              "      <td>22</td>\n",
              "      <td>294</td>\n",
              "    </tr>\n",
              "  </tbody>\n",
              "</table>\n",
              "</div>\n",
              "      <button class=\"colab-df-convert\" onclick=\"convertToInteractive('df-9dd9411b-b4e4-49c8-9f61-7ad778015ffa')\"\n",
              "              title=\"Convert this dataframe to an interactive table.\"\n",
              "              style=\"display:none;\">\n",
              "        \n",
              "  <svg xmlns=\"http://www.w3.org/2000/svg\" height=\"24px\"viewBox=\"0 0 24 24\"\n",
              "       width=\"24px\">\n",
              "    <path d=\"M0 0h24v24H0V0z\" fill=\"none\"/>\n",
              "    <path d=\"M18.56 5.44l.94 2.06.94-2.06 2.06-.94-2.06-.94-.94-2.06-.94 2.06-2.06.94zm-11 1L8.5 8.5l.94-2.06 2.06-.94-2.06-.94L8.5 2.5l-.94 2.06-2.06.94zm10 10l.94 2.06.94-2.06 2.06-.94-2.06-.94-.94-2.06-.94 2.06-2.06.94z\"/><path d=\"M17.41 7.96l-1.37-1.37c-.4-.4-.92-.59-1.43-.59-.52 0-1.04.2-1.43.59L10.3 9.45l-7.72 7.72c-.78.78-.78 2.05 0 2.83L4 21.41c.39.39.9.59 1.41.59.51 0 1.02-.2 1.41-.59l7.78-7.78 2.81-2.81c.8-.78.8-2.07 0-2.86zM5.41 20L4 18.59l7.72-7.72 1.47 1.35L5.41 20z\"/>\n",
              "  </svg>\n",
              "      </button>\n",
              "      \n",
              "  <style>\n",
              "    .colab-df-container {\n",
              "      display:flex;\n",
              "      flex-wrap:wrap;\n",
              "      gap: 12px;\n",
              "    }\n",
              "\n",
              "    .colab-df-convert {\n",
              "      background-color: #E8F0FE;\n",
              "      border: none;\n",
              "      border-radius: 50%;\n",
              "      cursor: pointer;\n",
              "      display: none;\n",
              "      fill: #1967D2;\n",
              "      height: 32px;\n",
              "      padding: 0 0 0 0;\n",
              "      width: 32px;\n",
              "    }\n",
              "\n",
              "    .colab-df-convert:hover {\n",
              "      background-color: #E2EBFA;\n",
              "      box-shadow: 0px 1px 2px rgba(60, 64, 67, 0.3), 0px 1px 3px 1px rgba(60, 64, 67, 0.15);\n",
              "      fill: #174EA6;\n",
              "    }\n",
              "\n",
              "    [theme=dark] .colab-df-convert {\n",
              "      background-color: #3B4455;\n",
              "      fill: #D2E3FC;\n",
              "    }\n",
              "\n",
              "    [theme=dark] .colab-df-convert:hover {\n",
              "      background-color: #434B5C;\n",
              "      box-shadow: 0px 1px 3px 1px rgba(0, 0, 0, 0.15);\n",
              "      filter: drop-shadow(0px 1px 2px rgba(0, 0, 0, 0.3));\n",
              "      fill: #FFFFFF;\n",
              "    }\n",
              "  </style>\n",
              "\n",
              "      <script>\n",
              "        const buttonEl =\n",
              "          document.querySelector('#df-9dd9411b-b4e4-49c8-9f61-7ad778015ffa button.colab-df-convert');\n",
              "        buttonEl.style.display =\n",
              "          google.colab.kernel.accessAllowed ? 'block' : 'none';\n",
              "\n",
              "        async function convertToInteractive(key) {\n",
              "          const element = document.querySelector('#df-9dd9411b-b4e4-49c8-9f61-7ad778015ffa');\n",
              "          const dataTable =\n",
              "            await google.colab.kernel.invokeFunction('convertToInteractive',\n",
              "                                                     [key], {});\n",
              "          if (!dataTable) return;\n",
              "\n",
              "          const docLinkHtml = 'Like what you see? Visit the ' +\n",
              "            '<a target=\"_blank\" href=https://colab.research.google.com/notebooks/data_table.ipynb>data table notebook</a>'\n",
              "            + ' to learn more about interactive tables.';\n",
              "          element.innerHTML = '';\n",
              "          dataTable['output_type'] = 'display_data';\n",
              "          await google.colab.output.renderOutput(dataTable, element);\n",
              "          const docLink = document.createElement('div');\n",
              "          docLink.innerHTML = docLinkHtml;\n",
              "          element.appendChild(docLink);\n",
              "        }\n",
              "      </script>\n",
              "    </div>\n",
              "  </div>\n",
              "  "
            ]
          },
          "metadata": {},
          "execution_count": 42
        }
      ]
    },
    {
      "cell_type": "code",
      "source": [
        "data.shape"
      ],
      "metadata": {
        "colab": {
          "base_uri": "https://localhost:8080/"
        },
        "id": "4BpbfINZlpRI",
        "outputId": "3f73fa4a-4e25-4976-cd6d-c4ae7161cf85"
      },
      "execution_count": 109,
      "outputs": [
        {
          "output_type": "execute_result",
          "data": {
            "text/plain": [
              "(1067, 13)"
            ]
          },
          "metadata": {},
          "execution_count": 109
        }
      ]
    },
    {
      "cell_type": "code",
      "source": [
        "data.columns"
      ],
      "metadata": {
        "colab": {
          "base_uri": "https://localhost:8080/"
        },
        "id": "f5r8Il8hltqI",
        "outputId": "2e628e80-975c-4418-dca8-87df4eb490d5"
      },
      "execution_count": 28,
      "outputs": [
        {
          "output_type": "execute_result",
          "data": {
            "text/plain": [
              "Index(['MODELYEAR', 'MAKE', 'MODEL', 'VEHICLECLASS', 'ENGINESIZE', 'CYLINDERS',\n",
              "       'TRANSMISSION', 'FUELTYPE', 'FUELCONSUMPTION_CITY',\n",
              "       'FUELCONSUMPTION_HWY', 'FUELCONSUMPTION_COMB',\n",
              "       'FUELCONSUMPTION_COMB_MPG', 'CO2EMISSIONS'],\n",
              "      dtype='object')"
            ]
          },
          "metadata": {},
          "execution_count": 28
        }
      ]
    },
    {
      "cell_type": "code",
      "source": [
        "data.nunique()"
      ],
      "metadata": {
        "colab": {
          "base_uri": "https://localhost:8080/"
        },
        "id": "B-c-nZVKl3x-",
        "outputId": "dfb232fe-6d13-4882-8f71-9718aced61b3"
      },
      "execution_count": 29,
      "outputs": [
        {
          "output_type": "execute_result",
          "data": {
            "text/plain": [
              "MODELYEAR                     1\n",
              "MAKE                         39\n",
              "MODEL                       663\n",
              "VEHICLECLASS                 16\n",
              "ENGINESIZE                   45\n",
              "CYLINDERS                     7\n",
              "TRANSMISSION                 22\n",
              "FUELTYPE                      4\n",
              "FUELCONSUMPTION_CITY        167\n",
              "FUELCONSUMPTION_HWY         118\n",
              "FUELCONSUMPTION_COMB        148\n",
              "FUELCONSUMPTION_COMB_MPG     43\n",
              "CO2EMISSIONS                159\n",
              "dtype: int64"
            ]
          },
          "metadata": {},
          "execution_count": 29
        }
      ]
    },
    {
      "cell_type": "code",
      "source": [
        "# checking for null fields\n",
        "data.isnull().sum()\n",
        "\n",
        "# There are no null fields"
      ],
      "metadata": {
        "colab": {
          "base_uri": "https://localhost:8080/"
        },
        "id": "SCbuiV_snCuR",
        "outputId": "2ea56b56-8a6a-4248-eafb-f6da3b5151d5"
      },
      "execution_count": 30,
      "outputs": [
        {
          "output_type": "execute_result",
          "data": {
            "text/plain": [
              "MODELYEAR                   0\n",
              "MAKE                        0\n",
              "MODEL                       0\n",
              "VEHICLECLASS                0\n",
              "ENGINESIZE                  0\n",
              "CYLINDERS                   0\n",
              "TRANSMISSION                0\n",
              "FUELTYPE                    0\n",
              "FUELCONSUMPTION_CITY        0\n",
              "FUELCONSUMPTION_HWY         0\n",
              "FUELCONSUMPTION_COMB        0\n",
              "FUELCONSUMPTION_COMB_MPG    0\n",
              "CO2EMISSIONS                0\n",
              "dtype: int64"
            ]
          },
          "metadata": {},
          "execution_count": 30
        }
      ]
    },
    {
      "cell_type": "code",
      "source": [
        "# checking for duplicate data\n",
        "data.duplicated().sum()\n",
        "\n",
        "# no duplicate data"
      ],
      "metadata": {
        "colab": {
          "base_uri": "https://localhost:8080/"
        },
        "id": "Bt4hRk_-nyWH",
        "outputId": "7fcd4cf7-f646-45eb-9619-a09d69d9c453"
      },
      "execution_count": 31,
      "outputs": [
        {
          "output_type": "execute_result",
          "data": {
            "text/plain": [
              "0"
            ]
          },
          "metadata": {},
          "execution_count": 31
        }
      ]
    },
    {
      "cell_type": "code",
      "source": [
        "data.info()"
      ],
      "metadata": {
        "colab": {
          "base_uri": "https://localhost:8080/"
        },
        "id": "aDLgX99EExqG",
        "outputId": "50d64ead-1db7-4727-901a-80bcef9b3aa3"
      },
      "execution_count": 41,
      "outputs": [
        {
          "output_type": "stream",
          "name": "stdout",
          "text": [
            "<class 'pandas.core.frame.DataFrame'>\n",
            "RangeIndex: 1067 entries, 0 to 1066\n",
            "Data columns (total 13 columns):\n",
            " #   Column                    Non-Null Count  Dtype  \n",
            "---  ------                    --------------  -----  \n",
            " 0   MODELYEAR                 1067 non-null   int64  \n",
            " 1   MAKE                      1067 non-null   object \n",
            " 2   MODEL                     1067 non-null   object \n",
            " 3   VEHICLECLASS              1067 non-null   object \n",
            " 4   ENGINESIZE                1067 non-null   float64\n",
            " 5   CYLINDERS                 1067 non-null   int64  \n",
            " 6   TRANSMISSION              1067 non-null   object \n",
            " 7   FUELTYPE                  1067 non-null   object \n",
            " 8   FUELCONSUMPTION_CITY      1067 non-null   float64\n",
            " 9   FUELCONSUMPTION_HWY       1067 non-null   float64\n",
            " 10  FUELCONSUMPTION_COMB      1067 non-null   float64\n",
            " 11  FUELCONSUMPTION_COMB_MPG  1067 non-null   int64  \n",
            " 12  CO2EMISSIONS              1067 non-null   int64  \n",
            "dtypes: float64(4), int64(4), object(5)\n",
            "memory usage: 108.5+ KB\n"
          ]
        }
      ]
    },
    {
      "cell_type": "markdown",
      "source": [
        "Transforming categorical attributes into numeric"
      ],
      "metadata": {
        "id": "qiz38-WugUZD"
      }
    },
    {
      "cell_type": "code",
      "source": [
        "from sklearn.preprocessing import LabelEncoder"
      ],
      "metadata": {
        "id": "NUNUiJuWFiOY"
      },
      "execution_count": 43,
      "outputs": []
    },
    {
      "cell_type": "code",
      "source": [
        "label_encoder_style = LabelEncoder()"
      ],
      "metadata": {
        "id": "_q6cMdjQFruy"
      },
      "execution_count": 44,
      "outputs": []
    },
    {
      "cell_type": "code",
      "source": [
        "data['VEHICLECLASS'] = label_encoder_style.fit_transform(data['VEHICLECLASS'])\n",
        "data['VEHICLECLASS']"
      ],
      "metadata": {
        "colab": {
          "base_uri": "https://localhost:8080/"
        },
        "id": "3vkbl9kdFsF1",
        "outputId": "66064e4f-5243-4440-ef29-66bc825ba528"
      },
      "execution_count": 49,
      "outputs": [
        {
          "output_type": "execute_result",
          "data": {
            "text/plain": [
              "0        0\n",
              "1        0\n",
              "2        0\n",
              "3       11\n",
              "4       11\n",
              "        ..\n",
              "1062    11\n",
              "1063    11\n",
              "1064    11\n",
              "1065    11\n",
              "1066    12\n",
              "Name: VEHICLECLASS, Length: 1067, dtype: int64"
            ]
          },
          "metadata": {},
          "execution_count": 49
        }
      ]
    },
    {
      "cell_type": "code",
      "source": [
        "data['MAKE'] = label_encoder_style.fit_transform(data['MAKE'])\n",
        "data['MAKE']"
      ],
      "metadata": {
        "colab": {
          "base_uri": "https://localhost:8080/"
        },
        "id": "TXXKv5j7FsH7",
        "outputId": "d93e1271-fc8b-4086-a692-79e3535e2504"
      },
      "execution_count": 50,
      "outputs": [
        {
          "output_type": "execute_result",
          "data": {
            "text/plain": [
              "0        0\n",
              "1        0\n",
              "2        0\n",
              "3        0\n",
              "4        0\n",
              "        ..\n",
              "1062    38\n",
              "1063    38\n",
              "1064    38\n",
              "1065    38\n",
              "1066    38\n",
              "Name: MAKE, Length: 1067, dtype: int64"
            ]
          },
          "metadata": {},
          "execution_count": 50
        }
      ]
    },
    {
      "cell_type": "code",
      "source": [
        "data['MODEL'] = label_encoder_style.fit_transform(data['MODEL'])\n",
        "data['MODEL']"
      ],
      "metadata": {
        "colab": {
          "base_uri": "https://localhost:8080/"
        },
        "id": "FjLEobXqeOcx",
        "outputId": "19c69820-c528-42c0-e63c-f2fe8607e10b"
      },
      "execution_count": 202,
      "outputs": [
        {
          "output_type": "execute_result",
          "data": {
            "text/plain": [
              "0       329\n",
              "1       329\n",
              "2       330\n",
              "3       389\n",
              "4       483\n",
              "       ... \n",
              "1062    624\n",
              "1063    624\n",
              "1064    625\n",
              "1065    625\n",
              "1066    626\n",
              "Name: MODEL, Length: 1067, dtype: int64"
            ]
          },
          "metadata": {},
          "execution_count": 202
        }
      ]
    },
    {
      "cell_type": "code",
      "source": [
        "# Ordering the data from lowest to highest CO2 emission, \n",
        "# to try to find some relationship between this parameter and the variation of the others\n",
        "\n",
        "data.groupby( by=['CO2EMISSIONS'] ).sum()"
      ],
      "metadata": {
        "colab": {
          "base_uri": "https://localhost:8080/",
          "height": 519
        },
        "id": "P-QMfhi2pOJS",
        "outputId": "4f4b0e8c-5534-4c65-9ce7-b46fb4862863"
      },
      "execution_count": 203,
      "outputs": [
        {
          "output_type": "execute_result",
          "data": {
            "text/plain": [
              "              MODELYEAR  MAKE  MODEL  VEHICLECLASS  ENGINESIZE  CYLINDERS  \\\n",
              "CO2EMISSIONS                                                                \n",
              "108                2014    36    439             0         1.5          4   \n",
              "110                4028    49    526             4         3.8          8   \n",
              "124                2014    37    345             0         1.4          4   \n",
              "126                4028    47    736            10         3.8          8   \n",
              "129                2014    21    193             0         1.8          4   \n",
              "...                 ...   ...    ...           ...         ...        ...   \n",
              "421                4028    30    335            28        11.9         20   \n",
              "432                4028    19    787            30        12.0         16   \n",
              "435                4028    19    789            30        12.0         16   \n",
              "437                2014     3    403             2         6.8          8   \n",
              "488                2014    11    232            15         6.8         10   \n",
              "\n",
              "              FUELCONSUMPTION_CITY  FUELCONSUMPTION_HWY  FUELCONSUMPTION_COMB  \\\n",
              "CO2EMISSIONS                                                                    \n",
              "108                            4.6                  4.9                   4.7   \n",
              "110                            9.4                  9.8                   9.6   \n",
              "124                            5.6                  5.2                   5.4   \n",
              "126                           10.6                 11.5                  11.0   \n",
              "129                            5.5                  5.8                   5.6   \n",
              "...                            ...                  ...                   ...   \n",
              "421                           43.4                 28.4                  36.6   \n",
              "432                           43.8                 30.0                  37.6   \n",
              "435                           44.2                 30.0                  37.8   \n",
              "437                           22.3                 14.9                  19.0   \n",
              "488                           23.9                 17.8                  21.2   \n",
              "\n",
              "              FUELCONSUMPTION_COMB_MPG  \n",
              "CO2EMISSIONS                            \n",
              "108                                 60  \n",
              "110                                118  \n",
              "124                                 52  \n",
              "126                                102  \n",
              "129                                 50  \n",
              "...                                ...  \n",
              "421                                 30  \n",
              "432                                 30  \n",
              "435                                 30  \n",
              "437                                 15  \n",
              "488                                 13  \n",
              "\n",
              "[159 rows x 10 columns]"
            ],
            "text/html": [
              "\n",
              "  <div id=\"df-beaf7772-afd4-4994-9b7e-c5b60a5848cf\">\n",
              "    <div class=\"colab-df-container\">\n",
              "      <div>\n",
              "<style scoped>\n",
              "    .dataframe tbody tr th:only-of-type {\n",
              "        vertical-align: middle;\n",
              "    }\n",
              "\n",
              "    .dataframe tbody tr th {\n",
              "        vertical-align: top;\n",
              "    }\n",
              "\n",
              "    .dataframe thead th {\n",
              "        text-align: right;\n",
              "    }\n",
              "</style>\n",
              "<table border=\"1\" class=\"dataframe\">\n",
              "  <thead>\n",
              "    <tr style=\"text-align: right;\">\n",
              "      <th></th>\n",
              "      <th>MODELYEAR</th>\n",
              "      <th>MAKE</th>\n",
              "      <th>MODEL</th>\n",
              "      <th>VEHICLECLASS</th>\n",
              "      <th>ENGINESIZE</th>\n",
              "      <th>CYLINDERS</th>\n",
              "      <th>FUELCONSUMPTION_CITY</th>\n",
              "      <th>FUELCONSUMPTION_HWY</th>\n",
              "      <th>FUELCONSUMPTION_COMB</th>\n",
              "      <th>FUELCONSUMPTION_COMB_MPG</th>\n",
              "    </tr>\n",
              "    <tr>\n",
              "      <th>CO2EMISSIONS</th>\n",
              "      <th></th>\n",
              "      <th></th>\n",
              "      <th></th>\n",
              "      <th></th>\n",
              "      <th></th>\n",
              "      <th></th>\n",
              "      <th></th>\n",
              "      <th></th>\n",
              "      <th></th>\n",
              "      <th></th>\n",
              "    </tr>\n",
              "  </thead>\n",
              "  <tbody>\n",
              "    <tr>\n",
              "      <th>108</th>\n",
              "      <td>2014</td>\n",
              "      <td>36</td>\n",
              "      <td>439</td>\n",
              "      <td>0</td>\n",
              "      <td>1.5</td>\n",
              "      <td>4</td>\n",
              "      <td>4.6</td>\n",
              "      <td>4.9</td>\n",
              "      <td>4.7</td>\n",
              "      <td>60</td>\n",
              "    </tr>\n",
              "    <tr>\n",
              "      <th>110</th>\n",
              "      <td>4028</td>\n",
              "      <td>49</td>\n",
              "      <td>526</td>\n",
              "      <td>4</td>\n",
              "      <td>3.8</td>\n",
              "      <td>8</td>\n",
              "      <td>9.4</td>\n",
              "      <td>9.8</td>\n",
              "      <td>9.6</td>\n",
              "      <td>118</td>\n",
              "    </tr>\n",
              "    <tr>\n",
              "      <th>124</th>\n",
              "      <td>2014</td>\n",
              "      <td>37</td>\n",
              "      <td>345</td>\n",
              "      <td>0</td>\n",
              "      <td>1.4</td>\n",
              "      <td>4</td>\n",
              "      <td>5.6</td>\n",
              "      <td>5.2</td>\n",
              "      <td>5.4</td>\n",
              "      <td>52</td>\n",
              "    </tr>\n",
              "    <tr>\n",
              "      <th>126</th>\n",
              "      <td>4028</td>\n",
              "      <td>47</td>\n",
              "      <td>736</td>\n",
              "      <td>10</td>\n",
              "      <td>3.8</td>\n",
              "      <td>8</td>\n",
              "      <td>10.6</td>\n",
              "      <td>11.5</td>\n",
              "      <td>11.0</td>\n",
              "      <td>102</td>\n",
              "    </tr>\n",
              "    <tr>\n",
              "      <th>129</th>\n",
              "      <td>2014</td>\n",
              "      <td>21</td>\n",
              "      <td>193</td>\n",
              "      <td>0</td>\n",
              "      <td>1.8</td>\n",
              "      <td>4</td>\n",
              "      <td>5.5</td>\n",
              "      <td>5.8</td>\n",
              "      <td>5.6</td>\n",
              "      <td>50</td>\n",
              "    </tr>\n",
              "    <tr>\n",
              "      <th>...</th>\n",
              "      <td>...</td>\n",
              "      <td>...</td>\n",
              "      <td>...</td>\n",
              "      <td>...</td>\n",
              "      <td>...</td>\n",
              "      <td>...</td>\n",
              "      <td>...</td>\n",
              "      <td>...</td>\n",
              "      <td>...</td>\n",
              "      <td>...</td>\n",
              "    </tr>\n",
              "    <tr>\n",
              "      <th>421</th>\n",
              "      <td>4028</td>\n",
              "      <td>30</td>\n",
              "      <td>335</td>\n",
              "      <td>28</td>\n",
              "      <td>11.9</td>\n",
              "      <td>20</td>\n",
              "      <td>43.4</td>\n",
              "      <td>28.4</td>\n",
              "      <td>36.6</td>\n",
              "      <td>30</td>\n",
              "    </tr>\n",
              "    <tr>\n",
              "      <th>432</th>\n",
              "      <td>4028</td>\n",
              "      <td>19</td>\n",
              "      <td>787</td>\n",
              "      <td>30</td>\n",
              "      <td>12.0</td>\n",
              "      <td>16</td>\n",
              "      <td>43.8</td>\n",
              "      <td>30.0</td>\n",
              "      <td>37.6</td>\n",
              "      <td>30</td>\n",
              "    </tr>\n",
              "    <tr>\n",
              "      <th>435</th>\n",
              "      <td>4028</td>\n",
              "      <td>19</td>\n",
              "      <td>789</td>\n",
              "      <td>30</td>\n",
              "      <td>12.0</td>\n",
              "      <td>16</td>\n",
              "      <td>44.2</td>\n",
              "      <td>30.0</td>\n",
              "      <td>37.8</td>\n",
              "      <td>30</td>\n",
              "    </tr>\n",
              "    <tr>\n",
              "      <th>437</th>\n",
              "      <td>2014</td>\n",
              "      <td>3</td>\n",
              "      <td>403</td>\n",
              "      <td>2</td>\n",
              "      <td>6.8</td>\n",
              "      <td>8</td>\n",
              "      <td>22.3</td>\n",
              "      <td>14.9</td>\n",
              "      <td>19.0</td>\n",
              "      <td>15</td>\n",
              "    </tr>\n",
              "    <tr>\n",
              "      <th>488</th>\n",
              "      <td>2014</td>\n",
              "      <td>11</td>\n",
              "      <td>232</td>\n",
              "      <td>15</td>\n",
              "      <td>6.8</td>\n",
              "      <td>10</td>\n",
              "      <td>23.9</td>\n",
              "      <td>17.8</td>\n",
              "      <td>21.2</td>\n",
              "      <td>13</td>\n",
              "    </tr>\n",
              "  </tbody>\n",
              "</table>\n",
              "<p>159 rows × 10 columns</p>\n",
              "</div>\n",
              "      <button class=\"colab-df-convert\" onclick=\"convertToInteractive('df-beaf7772-afd4-4994-9b7e-c5b60a5848cf')\"\n",
              "              title=\"Convert this dataframe to an interactive table.\"\n",
              "              style=\"display:none;\">\n",
              "        \n",
              "  <svg xmlns=\"http://www.w3.org/2000/svg\" height=\"24px\"viewBox=\"0 0 24 24\"\n",
              "       width=\"24px\">\n",
              "    <path d=\"M0 0h24v24H0V0z\" fill=\"none\"/>\n",
              "    <path d=\"M18.56 5.44l.94 2.06.94-2.06 2.06-.94-2.06-.94-.94-2.06-.94 2.06-2.06.94zm-11 1L8.5 8.5l.94-2.06 2.06-.94-2.06-.94L8.5 2.5l-.94 2.06-2.06.94zm10 10l.94 2.06.94-2.06 2.06-.94-2.06-.94-.94-2.06-.94 2.06-2.06.94z\"/><path d=\"M17.41 7.96l-1.37-1.37c-.4-.4-.92-.59-1.43-.59-.52 0-1.04.2-1.43.59L10.3 9.45l-7.72 7.72c-.78.78-.78 2.05 0 2.83L4 21.41c.39.39.9.59 1.41.59.51 0 1.02-.2 1.41-.59l7.78-7.78 2.81-2.81c.8-.78.8-2.07 0-2.86zM5.41 20L4 18.59l7.72-7.72 1.47 1.35L5.41 20z\"/>\n",
              "  </svg>\n",
              "      </button>\n",
              "      \n",
              "  <style>\n",
              "    .colab-df-container {\n",
              "      display:flex;\n",
              "      flex-wrap:wrap;\n",
              "      gap: 12px;\n",
              "    }\n",
              "\n",
              "    .colab-df-convert {\n",
              "      background-color: #E8F0FE;\n",
              "      border: none;\n",
              "      border-radius: 50%;\n",
              "      cursor: pointer;\n",
              "      display: none;\n",
              "      fill: #1967D2;\n",
              "      height: 32px;\n",
              "      padding: 0 0 0 0;\n",
              "      width: 32px;\n",
              "    }\n",
              "\n",
              "    .colab-df-convert:hover {\n",
              "      background-color: #E2EBFA;\n",
              "      box-shadow: 0px 1px 2px rgba(60, 64, 67, 0.3), 0px 1px 3px 1px rgba(60, 64, 67, 0.15);\n",
              "      fill: #174EA6;\n",
              "    }\n",
              "\n",
              "    [theme=dark] .colab-df-convert {\n",
              "      background-color: #3B4455;\n",
              "      fill: #D2E3FC;\n",
              "    }\n",
              "\n",
              "    [theme=dark] .colab-df-convert:hover {\n",
              "      background-color: #434B5C;\n",
              "      box-shadow: 0px 1px 3px 1px rgba(0, 0, 0, 0.15);\n",
              "      filter: drop-shadow(0px 1px 2px rgba(0, 0, 0, 0.3));\n",
              "      fill: #FFFFFF;\n",
              "    }\n",
              "  </style>\n",
              "\n",
              "      <script>\n",
              "        const buttonEl =\n",
              "          document.querySelector('#df-beaf7772-afd4-4994-9b7e-c5b60a5848cf button.colab-df-convert');\n",
              "        buttonEl.style.display =\n",
              "          google.colab.kernel.accessAllowed ? 'block' : 'none';\n",
              "\n",
              "        async function convertToInteractive(key) {\n",
              "          const element = document.querySelector('#df-beaf7772-afd4-4994-9b7e-c5b60a5848cf');\n",
              "          const dataTable =\n",
              "            await google.colab.kernel.invokeFunction('convertToInteractive',\n",
              "                                                     [key], {});\n",
              "          if (!dataTable) return;\n",
              "\n",
              "          const docLinkHtml = 'Like what you see? Visit the ' +\n",
              "            '<a target=\"_blank\" href=https://colab.research.google.com/notebooks/data_table.ipynb>data table notebook</a>'\n",
              "            + ' to learn more about interactive tables.';\n",
              "          element.innerHTML = '';\n",
              "          dataTable['output_type'] = 'display_data';\n",
              "          await google.colab.output.renderOutput(dataTable, element);\n",
              "          const docLink = document.createElement('div');\n",
              "          docLink.innerHTML = docLinkHtml;\n",
              "          element.appendChild(docLink);\n",
              "        }\n",
              "      </script>\n",
              "    </div>\n",
              "  </div>\n",
              "  "
            ]
          },
          "metadata": {},
          "execution_count": 203
        }
      ]
    },
    {
      "cell_type": "markdown",
      "source": [
        "# Checking the correlation between CO2 and the other parameters"
      ],
      "metadata": {
        "id": "9Jtt26xDf_Zc"
      }
    },
    {
      "cell_type": "code",
      "source": [
        "# Checking Pearson's Correlation - linear relationship\n",
        "data.corr()"
      ],
      "metadata": {
        "colab": {
          "base_uri": "https://localhost:8080/",
          "height": 458
        },
        "id": "-8tLnGV1pnnt",
        "outputId": "973fabba-fa5d-4675-c0c3-7488d7263f79"
      },
      "execution_count": 204,
      "outputs": [
        {
          "output_type": "execute_result",
          "data": {
            "text/plain": [
              "                          MODELYEAR      MAKE     MODEL  VEHICLECLASS  \\\n",
              "MODELYEAR                       NaN       NaN       NaN           NaN   \n",
              "MAKE                            NaN  1.000000  0.039068      0.005853   \n",
              "MODEL                           NaN  0.039068  1.000000      0.244648   \n",
              "VEHICLECLASS                    NaN  0.005853  0.244648      1.000000   \n",
              "ENGINESIZE                      NaN -0.166416  0.096304      0.240529   \n",
              "CYLINDERS                       NaN -0.203427  0.080010      0.208528   \n",
              "FUELCONSUMPTION_CITY            NaN -0.246247  0.147394      0.354363   \n",
              "FUELCONSUMPTION_HWY             NaN -0.174665  0.182009      0.430074   \n",
              "FUELCONSUMPTION_COMB            NaN -0.222273  0.161373      0.384678   \n",
              "FUELCONSUMPTION_COMB_MPG        NaN  0.226347 -0.148806     -0.354073   \n",
              "CO2EMISSIONS                    NaN -0.186504  0.155492      0.388468   \n",
              "\n",
              "                          ENGINESIZE  CYLINDERS  FUELCONSUMPTION_CITY  \\\n",
              "MODELYEAR                        NaN        NaN                   NaN   \n",
              "MAKE                       -0.166416  -0.203427             -0.246247   \n",
              "MODEL                       0.096304   0.080010              0.147394   \n",
              "VEHICLECLASS                0.240529   0.208528              0.354363   \n",
              "ENGINESIZE                  1.000000   0.934011              0.832225   \n",
              "CYLINDERS                   0.934011   1.000000              0.796473   \n",
              "FUELCONSUMPTION_CITY        0.832225   0.796473              1.000000   \n",
              "FUELCONSUMPTION_HWY         0.778746   0.724594              0.965718   \n",
              "FUELCONSUMPTION_COMB        0.819482   0.776788              0.995542   \n",
              "FUELCONSUMPTION_COMB_MPG   -0.808554  -0.770430             -0.935613   \n",
              "CO2EMISSIONS                0.874154   0.849685              0.898039   \n",
              "\n",
              "                          FUELCONSUMPTION_HWY  FUELCONSUMPTION_COMB  \\\n",
              "MODELYEAR                                 NaN                   NaN   \n",
              "MAKE                                -0.174665             -0.222273   \n",
              "MODEL                                0.182009              0.161373   \n",
              "VEHICLECLASS                         0.430074              0.384678   \n",
              "ENGINESIZE                           0.778746              0.819482   \n",
              "CYLINDERS                            0.724594              0.776788   \n",
              "FUELCONSUMPTION_CITY                 0.965718              0.995542   \n",
              "FUELCONSUMPTION_HWY                  1.000000              0.985804   \n",
              "FUELCONSUMPTION_COMB                 0.985804              1.000000   \n",
              "FUELCONSUMPTION_COMB_MPG            -0.893809             -0.927965   \n",
              "CO2EMISSIONS                         0.861748              0.892129   \n",
              "\n",
              "                          FUELCONSUMPTION_COMB_MPG  CO2EMISSIONS  \n",
              "MODELYEAR                                      NaN           NaN  \n",
              "MAKE                                      0.226347     -0.186504  \n",
              "MODEL                                    -0.148806      0.155492  \n",
              "VEHICLECLASS                             -0.354073      0.388468  \n",
              "ENGINESIZE                               -0.808554      0.874154  \n",
              "CYLINDERS                                -0.770430      0.849685  \n",
              "FUELCONSUMPTION_CITY                     -0.935613      0.898039  \n",
              "FUELCONSUMPTION_HWY                      -0.893809      0.861748  \n",
              "FUELCONSUMPTION_COMB                     -0.927965      0.892129  \n",
              "FUELCONSUMPTION_COMB_MPG                  1.000000     -0.906394  \n",
              "CO2EMISSIONS                             -0.906394      1.000000  "
            ],
            "text/html": [
              "\n",
              "  <div id=\"df-e62c817b-2a1f-4beb-8d10-679280ef2363\">\n",
              "    <div class=\"colab-df-container\">\n",
              "      <div>\n",
              "<style scoped>\n",
              "    .dataframe tbody tr th:only-of-type {\n",
              "        vertical-align: middle;\n",
              "    }\n",
              "\n",
              "    .dataframe tbody tr th {\n",
              "        vertical-align: top;\n",
              "    }\n",
              "\n",
              "    .dataframe thead th {\n",
              "        text-align: right;\n",
              "    }\n",
              "</style>\n",
              "<table border=\"1\" class=\"dataframe\">\n",
              "  <thead>\n",
              "    <tr style=\"text-align: right;\">\n",
              "      <th></th>\n",
              "      <th>MODELYEAR</th>\n",
              "      <th>MAKE</th>\n",
              "      <th>MODEL</th>\n",
              "      <th>VEHICLECLASS</th>\n",
              "      <th>ENGINESIZE</th>\n",
              "      <th>CYLINDERS</th>\n",
              "      <th>FUELCONSUMPTION_CITY</th>\n",
              "      <th>FUELCONSUMPTION_HWY</th>\n",
              "      <th>FUELCONSUMPTION_COMB</th>\n",
              "      <th>FUELCONSUMPTION_COMB_MPG</th>\n",
              "      <th>CO2EMISSIONS</th>\n",
              "    </tr>\n",
              "  </thead>\n",
              "  <tbody>\n",
              "    <tr>\n",
              "      <th>MODELYEAR</th>\n",
              "      <td>NaN</td>\n",
              "      <td>NaN</td>\n",
              "      <td>NaN</td>\n",
              "      <td>NaN</td>\n",
              "      <td>NaN</td>\n",
              "      <td>NaN</td>\n",
              "      <td>NaN</td>\n",
              "      <td>NaN</td>\n",
              "      <td>NaN</td>\n",
              "      <td>NaN</td>\n",
              "      <td>NaN</td>\n",
              "    </tr>\n",
              "    <tr>\n",
              "      <th>MAKE</th>\n",
              "      <td>NaN</td>\n",
              "      <td>1.000000</td>\n",
              "      <td>0.039068</td>\n",
              "      <td>0.005853</td>\n",
              "      <td>-0.166416</td>\n",
              "      <td>-0.203427</td>\n",
              "      <td>-0.246247</td>\n",
              "      <td>-0.174665</td>\n",
              "      <td>-0.222273</td>\n",
              "      <td>0.226347</td>\n",
              "      <td>-0.186504</td>\n",
              "    </tr>\n",
              "    <tr>\n",
              "      <th>MODEL</th>\n",
              "      <td>NaN</td>\n",
              "      <td>0.039068</td>\n",
              "      <td>1.000000</td>\n",
              "      <td>0.244648</td>\n",
              "      <td>0.096304</td>\n",
              "      <td>0.080010</td>\n",
              "      <td>0.147394</td>\n",
              "      <td>0.182009</td>\n",
              "      <td>0.161373</td>\n",
              "      <td>-0.148806</td>\n",
              "      <td>0.155492</td>\n",
              "    </tr>\n",
              "    <tr>\n",
              "      <th>VEHICLECLASS</th>\n",
              "      <td>NaN</td>\n",
              "      <td>0.005853</td>\n",
              "      <td>0.244648</td>\n",
              "      <td>1.000000</td>\n",
              "      <td>0.240529</td>\n",
              "      <td>0.208528</td>\n",
              "      <td>0.354363</td>\n",
              "      <td>0.430074</td>\n",
              "      <td>0.384678</td>\n",
              "      <td>-0.354073</td>\n",
              "      <td>0.388468</td>\n",
              "    </tr>\n",
              "    <tr>\n",
              "      <th>ENGINESIZE</th>\n",
              "      <td>NaN</td>\n",
              "      <td>-0.166416</td>\n",
              "      <td>0.096304</td>\n",
              "      <td>0.240529</td>\n",
              "      <td>1.000000</td>\n",
              "      <td>0.934011</td>\n",
              "      <td>0.832225</td>\n",
              "      <td>0.778746</td>\n",
              "      <td>0.819482</td>\n",
              "      <td>-0.808554</td>\n",
              "      <td>0.874154</td>\n",
              "    </tr>\n",
              "    <tr>\n",
              "      <th>CYLINDERS</th>\n",
              "      <td>NaN</td>\n",
              "      <td>-0.203427</td>\n",
              "      <td>0.080010</td>\n",
              "      <td>0.208528</td>\n",
              "      <td>0.934011</td>\n",
              "      <td>1.000000</td>\n",
              "      <td>0.796473</td>\n",
              "      <td>0.724594</td>\n",
              "      <td>0.776788</td>\n",
              "      <td>-0.770430</td>\n",
              "      <td>0.849685</td>\n",
              "    </tr>\n",
              "    <tr>\n",
              "      <th>FUELCONSUMPTION_CITY</th>\n",
              "      <td>NaN</td>\n",
              "      <td>-0.246247</td>\n",
              "      <td>0.147394</td>\n",
              "      <td>0.354363</td>\n",
              "      <td>0.832225</td>\n",
              "      <td>0.796473</td>\n",
              "      <td>1.000000</td>\n",
              "      <td>0.965718</td>\n",
              "      <td>0.995542</td>\n",
              "      <td>-0.935613</td>\n",
              "      <td>0.898039</td>\n",
              "    </tr>\n",
              "    <tr>\n",
              "      <th>FUELCONSUMPTION_HWY</th>\n",
              "      <td>NaN</td>\n",
              "      <td>-0.174665</td>\n",
              "      <td>0.182009</td>\n",
              "      <td>0.430074</td>\n",
              "      <td>0.778746</td>\n",
              "      <td>0.724594</td>\n",
              "      <td>0.965718</td>\n",
              "      <td>1.000000</td>\n",
              "      <td>0.985804</td>\n",
              "      <td>-0.893809</td>\n",
              "      <td>0.861748</td>\n",
              "    </tr>\n",
              "    <tr>\n",
              "      <th>FUELCONSUMPTION_COMB</th>\n",
              "      <td>NaN</td>\n",
              "      <td>-0.222273</td>\n",
              "      <td>0.161373</td>\n",
              "      <td>0.384678</td>\n",
              "      <td>0.819482</td>\n",
              "      <td>0.776788</td>\n",
              "      <td>0.995542</td>\n",
              "      <td>0.985804</td>\n",
              "      <td>1.000000</td>\n",
              "      <td>-0.927965</td>\n",
              "      <td>0.892129</td>\n",
              "    </tr>\n",
              "    <tr>\n",
              "      <th>FUELCONSUMPTION_COMB_MPG</th>\n",
              "      <td>NaN</td>\n",
              "      <td>0.226347</td>\n",
              "      <td>-0.148806</td>\n",
              "      <td>-0.354073</td>\n",
              "      <td>-0.808554</td>\n",
              "      <td>-0.770430</td>\n",
              "      <td>-0.935613</td>\n",
              "      <td>-0.893809</td>\n",
              "      <td>-0.927965</td>\n",
              "      <td>1.000000</td>\n",
              "      <td>-0.906394</td>\n",
              "    </tr>\n",
              "    <tr>\n",
              "      <th>CO2EMISSIONS</th>\n",
              "      <td>NaN</td>\n",
              "      <td>-0.186504</td>\n",
              "      <td>0.155492</td>\n",
              "      <td>0.388468</td>\n",
              "      <td>0.874154</td>\n",
              "      <td>0.849685</td>\n",
              "      <td>0.898039</td>\n",
              "      <td>0.861748</td>\n",
              "      <td>0.892129</td>\n",
              "      <td>-0.906394</td>\n",
              "      <td>1.000000</td>\n",
              "    </tr>\n",
              "  </tbody>\n",
              "</table>\n",
              "</div>\n",
              "      <button class=\"colab-df-convert\" onclick=\"convertToInteractive('df-e62c817b-2a1f-4beb-8d10-679280ef2363')\"\n",
              "              title=\"Convert this dataframe to an interactive table.\"\n",
              "              style=\"display:none;\">\n",
              "        \n",
              "  <svg xmlns=\"http://www.w3.org/2000/svg\" height=\"24px\"viewBox=\"0 0 24 24\"\n",
              "       width=\"24px\">\n",
              "    <path d=\"M0 0h24v24H0V0z\" fill=\"none\"/>\n",
              "    <path d=\"M18.56 5.44l.94 2.06.94-2.06 2.06-.94-2.06-.94-.94-2.06-.94 2.06-2.06.94zm-11 1L8.5 8.5l.94-2.06 2.06-.94-2.06-.94L8.5 2.5l-.94 2.06-2.06.94zm10 10l.94 2.06.94-2.06 2.06-.94-2.06-.94-.94-2.06-.94 2.06-2.06.94z\"/><path d=\"M17.41 7.96l-1.37-1.37c-.4-.4-.92-.59-1.43-.59-.52 0-1.04.2-1.43.59L10.3 9.45l-7.72 7.72c-.78.78-.78 2.05 0 2.83L4 21.41c.39.39.9.59 1.41.59.51 0 1.02-.2 1.41-.59l7.78-7.78 2.81-2.81c.8-.78.8-2.07 0-2.86zM5.41 20L4 18.59l7.72-7.72 1.47 1.35L5.41 20z\"/>\n",
              "  </svg>\n",
              "      </button>\n",
              "      \n",
              "  <style>\n",
              "    .colab-df-container {\n",
              "      display:flex;\n",
              "      flex-wrap:wrap;\n",
              "      gap: 12px;\n",
              "    }\n",
              "\n",
              "    .colab-df-convert {\n",
              "      background-color: #E8F0FE;\n",
              "      border: none;\n",
              "      border-radius: 50%;\n",
              "      cursor: pointer;\n",
              "      display: none;\n",
              "      fill: #1967D2;\n",
              "      height: 32px;\n",
              "      padding: 0 0 0 0;\n",
              "      width: 32px;\n",
              "    }\n",
              "\n",
              "    .colab-df-convert:hover {\n",
              "      background-color: #E2EBFA;\n",
              "      box-shadow: 0px 1px 2px rgba(60, 64, 67, 0.3), 0px 1px 3px 1px rgba(60, 64, 67, 0.15);\n",
              "      fill: #174EA6;\n",
              "    }\n",
              "\n",
              "    [theme=dark] .colab-df-convert {\n",
              "      background-color: #3B4455;\n",
              "      fill: #D2E3FC;\n",
              "    }\n",
              "\n",
              "    [theme=dark] .colab-df-convert:hover {\n",
              "      background-color: #434B5C;\n",
              "      box-shadow: 0px 1px 3px 1px rgba(0, 0, 0, 0.15);\n",
              "      filter: drop-shadow(0px 1px 2px rgba(0, 0, 0, 0.3));\n",
              "      fill: #FFFFFF;\n",
              "    }\n",
              "  </style>\n",
              "\n",
              "      <script>\n",
              "        const buttonEl =\n",
              "          document.querySelector('#df-e62c817b-2a1f-4beb-8d10-679280ef2363 button.colab-df-convert');\n",
              "        buttonEl.style.display =\n",
              "          google.colab.kernel.accessAllowed ? 'block' : 'none';\n",
              "\n",
              "        async function convertToInteractive(key) {\n",
              "          const element = document.querySelector('#df-e62c817b-2a1f-4beb-8d10-679280ef2363');\n",
              "          const dataTable =\n",
              "            await google.colab.kernel.invokeFunction('convertToInteractive',\n",
              "                                                     [key], {});\n",
              "          if (!dataTable) return;\n",
              "\n",
              "          const docLinkHtml = 'Like what you see? Visit the ' +\n",
              "            '<a target=\"_blank\" href=https://colab.research.google.com/notebooks/data_table.ipynb>data table notebook</a>'\n",
              "            + ' to learn more about interactive tables.';\n",
              "          element.innerHTML = '';\n",
              "          dataTable['output_type'] = 'display_data';\n",
              "          await google.colab.output.renderOutput(dataTable, element);\n",
              "          const docLink = document.createElement('div');\n",
              "          docLink.innerHTML = docLinkHtml;\n",
              "          element.appendChild(docLink);\n",
              "        }\n",
              "      </script>\n",
              "    </div>\n",
              "  </div>\n",
              "  "
            ]
          },
          "metadata": {},
          "execution_count": 204
        }
      ]
    },
    {
      "cell_type": "code",
      "source": [
        "# Viewing the Pearson's Correlation\n",
        "sns.heatmap(data.corr(), annot=True)"
      ],
      "metadata": {
        "colab": {
          "base_uri": "https://localhost:8080/",
          "height": 439
        },
        "id": "4lfimm1m_P_c",
        "outputId": "cace4db9-bfaa-45a6-9d0d-fdefa6eb1898"
      },
      "execution_count": 205,
      "outputs": [
        {
          "output_type": "execute_result",
          "data": {
            "text/plain": [
              "<matplotlib.axes._subplots.AxesSubplot at 0x7f1eab714490>"
            ]
          },
          "metadata": {},
          "execution_count": 205
        },
        {
          "output_type": "display_data",
          "data": {
            "text/plain": [
              "<Figure size 432x288 with 2 Axes>"
            ],
            "image/png": "[encoded data removed]"
          },
          "metadata": {
            "needs_background": "light"
          }
        }
      ]
    },
    {
      "cell_type": "code",
      "source": [
        "# Creating a scatterplot with linear fit for the highest correlation parameters (>0.8).\n",
        "\n",
        "# OBS: they were separated in 2 graphs for better visualization.\n",
        "\n",
        "sns.regplot(data.ENGINESIZE, data.CO2EMISSIONS)\n",
        "sns.regplot(data.CYLINDERS, data.CO2EMISSIONS)\n",
        "sns.regplot(data.FUELCONSUMPTION_CITY, data.CO2EMISSIONS)\n",
        "plt.ylabel('CO2 Emission')\n",
        "plt.legend(('Engine Size', 'Cylinders', 'Fuel Consupmtion City'))\n",
        "plt.show()"
      ],
      "metadata": {
        "colab": {
          "base_uri": "https://localhost:8080/",
          "height": 409
        },
        "id": "moA8DxoO_Uqc",
        "outputId": "606ec1e0-b6eb-4175-8501-59e9bf7c53d0"
      },
      "execution_count": 56,
      "outputs": [
        {
          "output_type": "stream",
          "name": "stderr",
          "text": [
            "/usr/local/lib/python3.7/dist-packages/seaborn/_decorators.py:43: FutureWarning: Pass the following variables as keyword args: x, y. From version 0.12, the only valid positional argument will be `data`, and passing other arguments without an explicit keyword will result in an error or misinterpretation.\n",
            "  FutureWarning\n",
            "/usr/local/lib/python3.7/dist-packages/seaborn/_decorators.py:43: FutureWarning: Pass the following variables as keyword args: x, y. From version 0.12, the only valid positional argument will be `data`, and passing other arguments without an explicit keyword will result in an error or misinterpretation.\n",
            "  FutureWarning\n",
            "/usr/local/lib/python3.7/dist-packages/seaborn/_decorators.py:43: FutureWarning: Pass the following variables as keyword args: x, y. From version 0.12, the only valid positional argument will be `data`, and passing other arguments without an explicit keyword will result in an error or misinterpretation.\n",
            "  FutureWarning\n"
          ]
        },
        {
          "output_type": "display_data",
          "data": {
            "text/plain": [
              "<Figure size 432x288 with 1 Axes>"
            ],
            "image/png": "[encoded data removed]"
          },
          "metadata": {
            "needs_background": "light"
          }
        }
      ]
    },
    {
      "cell_type": "code",
      "source": [
        "sns.regplot(data.FUELCONSUMPTION_HWY, data.CO2EMISSIONS)\n",
        "sns.regplot(data.FUELCONSUMPTION_COMB, data.CO2EMISSIONS)\n",
        "sns.regplot(data.FUELCONSUMPTION_COMB_MPG, data.CO2EMISSIONS)\n",
        "plt.ylabel('CO2 Emission')\n",
        "plt.legend(('Engine Size', 'Cylinders', 'Fuel Consupmtion City', 'Fuel Consupmtion Hwy', 'Fuel Consupmtion Comb', 'Fuel Consupmtion Comb Mpg'))\n",
        "plt.show()\n",
        "\n",
        "# We can see that the data have a good linear fit, even by the correlation coefficients. \n",
        "# But also, that in some cases non-linear fits would be better modeled."
      ],
      "metadata": {
        "colab": {
          "base_uri": "https://localhost:8080/",
          "height": 409
        },
        "id": "DJI-6AKmCk-W",
        "outputId": "84b12370-2482-4669-a336-3ea6cf1d88c5"
      },
      "execution_count": 57,
      "outputs": [
        {
          "output_type": "stream",
          "name": "stderr",
          "text": [
            "/usr/local/lib/python3.7/dist-packages/seaborn/_decorators.py:43: FutureWarning: Pass the following variables as keyword args: x, y. From version 0.12, the only valid positional argument will be `data`, and passing other arguments without an explicit keyword will result in an error or misinterpretation.\n",
            "  FutureWarning\n",
            "/usr/local/lib/python3.7/dist-packages/seaborn/_decorators.py:43: FutureWarning: Pass the following variables as keyword args: x, y. From version 0.12, the only valid positional argument will be `data`, and passing other arguments without an explicit keyword will result in an error or misinterpretation.\n",
            "  FutureWarning\n",
            "/usr/local/lib/python3.7/dist-packages/seaborn/_decorators.py:43: FutureWarning: Pass the following variables as keyword args: x, y. From version 0.12, the only valid positional argument will be `data`, and passing other arguments without an explicit keyword will result in an error or misinterpretation.\n",
            "  FutureWarning\n"
          ]
        },
        {
          "output_type": "display_data",
          "data": {
            "text/plain": [
              "<Figure size 432x288 with 1 Axes>"
            ],
            "image/png": "[encoded data removed]"
          },
          "metadata": {
            "needs_background": "light"
          }
        }
      ]
    },
    {
      "cell_type": "code",
      "source": [
        "# Checking the Spearman Correlation - no linear assumptions\n",
        "data.corr('spearman')"
      ],
      "metadata": {
        "colab": {
          "base_uri": "https://localhost:8080/",
          "height": 458
        },
        "id": "yal1D67pgEvk",
        "outputId": "b046027e-b813-408f-ce83-3f7944df06a8"
      },
      "execution_count": 208,
      "outputs": [
        {
          "output_type": "execute_result",
          "data": {
            "text/plain": [
              "                          MODELYEAR      MAKE     MODEL  VEHICLECLASS  \\\n",
              "MODELYEAR                       NaN       NaN       NaN           NaN   \n",
              "MAKE                            NaN  1.000000  0.058137      0.025297   \n",
              "MODEL                           NaN  0.058137  1.000000      0.230920   \n",
              "VEHICLECLASS                    NaN  0.025297  0.230920      1.000000   \n",
              "ENGINESIZE                      NaN -0.157698  0.078100      0.280839   \n",
              "CYLINDERS                       NaN -0.203642  0.072769      0.272521   \n",
              "FUELCONSUMPTION_CITY            NaN -0.230768  0.143401      0.344440   \n",
              "FUELCONSUMPTION_HWY             NaN -0.138933  0.199919      0.426469   \n",
              "FUELCONSUMPTION_COMB            NaN -0.199743  0.163787      0.374635   \n",
              "FUELCONSUMPTION_COMB_MPG        NaN  0.204306 -0.163259     -0.373861   \n",
              "CO2EMISSIONS                    NaN -0.174444  0.163900      0.393557   \n",
              "\n",
              "                          ENGINESIZE  CYLINDERS  FUELCONSUMPTION_CITY  \\\n",
              "MODELYEAR                        NaN        NaN                   NaN   \n",
              "MAKE                       -0.157698  -0.203642             -0.230768   \n",
              "MODEL                       0.078100   0.072769              0.143401   \n",
              "VEHICLECLASS                0.280839   0.272521              0.344440   \n",
              "ENGINESIZE                  1.000000   0.941816              0.885117   \n",
              "CYLINDERS                   0.941816   1.000000              0.864859   \n",
              "FUELCONSUMPTION_CITY        0.885117   0.864859              1.000000   \n",
              "FUELCONSUMPTION_HWY         0.849250   0.818107              0.965144   \n",
              "FUELCONSUMPTION_COMB        0.879171   0.854421              0.995949   \n",
              "FUELCONSUMPTION_COMB_MPG   -0.878453  -0.854305             -0.995310   \n",
              "CO2EMISSIONS                0.889973   0.875330              0.949859   \n",
              "\n",
              "                          FUELCONSUMPTION_HWY  FUELCONSUMPTION_COMB  \\\n",
              "MODELYEAR                                 NaN                   NaN   \n",
              "MAKE                                -0.138933             -0.199743   \n",
              "MODEL                                0.199919              0.163787   \n",
              "VEHICLECLASS                         0.426469              0.374635   \n",
              "ENGINESIZE                           0.849250              0.879171   \n",
              "CYLINDERS                            0.818107              0.854421   \n",
              "FUELCONSUMPTION_CITY                 0.965144              0.995949   \n",
              "FUELCONSUMPTION_HWY                  1.000000              0.984117   \n",
              "FUELCONSUMPTION_COMB                 0.984117              1.000000   \n",
              "FUELCONSUMPTION_COMB_MPG            -0.983202             -0.999126   \n",
              "CO2EMISSIONS                         0.936560              0.953496   \n",
              "\n",
              "                          FUELCONSUMPTION_COMB_MPG  CO2EMISSIONS  \n",
              "MODELYEAR                                      NaN           NaN  \n",
              "MAKE                                      0.204306     -0.174444  \n",
              "MODEL                                    -0.163259      0.163900  \n",
              "VEHICLECLASS                             -0.373861      0.393557  \n",
              "ENGINESIZE                               -0.878453      0.889973  \n",
              "CYLINDERS                                -0.854305      0.875330  \n",
              "FUELCONSUMPTION_CITY                     -0.995310      0.949859  \n",
              "FUELCONSUMPTION_HWY                      -0.983202      0.936560  \n",
              "FUELCONSUMPTION_COMB                     -0.999126      0.953496  \n",
              "FUELCONSUMPTION_COMB_MPG                  1.000000     -0.952809  \n",
              "CO2EMISSIONS                             -0.952809      1.000000  "
            ],
            "text/html": [
              "\n",
              "  <div id=\"df-52ab05f3-2f71-4564-bc10-7f134f85261d\">\n",
              "    <div class=\"colab-df-container\">\n",
              "      <div>\n",
              "<style scoped>\n",
              "    .dataframe tbody tr th:only-of-type {\n",
              "        vertical-align: middle;\n",
              "    }\n",
              "\n",
              "    .dataframe tbody tr th {\n",
              "        vertical-align: top;\n",
              "    }\n",
              "\n",
              "    .dataframe thead th {\n",
              "        text-align: right;\n",
              "    }\n",
              "</style>\n",
              "<table border=\"1\" class=\"dataframe\">\n",
              "  <thead>\n",
              "    <tr style=\"text-align: right;\">\n",
              "      <th></th>\n",
              "      <th>MODELYEAR</th>\n",
              "      <th>MAKE</th>\n",
              "      <th>MODEL</th>\n",
              "      <th>VEHICLECLASS</th>\n",
              "      <th>ENGINESIZE</th>\n",
              "      <th>CYLINDERS</th>\n",
              "      <th>FUELCONSUMPTION_CITY</th>\n",
              "      <th>FUELCONSUMPTION_HWY</th>\n",
              "      <th>FUELCONSUMPTION_COMB</th>\n",
              "      <th>FUELCONSUMPTION_COMB_MPG</th>\n",
              "      <th>CO2EMISSIONS</th>\n",
              "    </tr>\n",
              "  </thead>\n",
              "  <tbody>\n",
              "    <tr>\n",
              "      <th>MODELYEAR</th>\n",
              "      <td>NaN</td>\n",
              "      <td>NaN</td>\n",
              "      <td>NaN</td>\n",
              "      <td>NaN</td>\n",
              "      <td>NaN</td>\n",
              "      <td>NaN</td>\n",
              "      <td>NaN</td>\n",
              "      <td>NaN</td>\n",
              "      <td>NaN</td>\n",
              "      <td>NaN</td>\n",
              "      <td>NaN</td>\n",
              "    </tr>\n",
              "    <tr>\n",
              "      <th>MAKE</th>\n",
              "      <td>NaN</td>\n",
              "      <td>1.000000</td>\n",
              "      <td>0.058137</td>\n",
              "      <td>0.025297</td>\n",
              "      <td>-0.157698</td>\n",
              "      <td>-0.203642</td>\n",
              "      <td>-0.230768</td>\n",
              "      <td>-0.138933</td>\n",
              "      <td>-0.199743</td>\n",
              "      <td>0.204306</td>\n",
              "      <td>-0.174444</td>\n",
              "    </tr>\n",
              "    <tr>\n",
              "      <th>MODEL</th>\n",
              "      <td>NaN</td>\n",
              "      <td>0.058137</td>\n",
              "      <td>1.000000</td>\n",
              "      <td>0.230920</td>\n",
              "      <td>0.078100</td>\n",
              "      <td>0.072769</td>\n",
              "      <td>0.143401</td>\n",
              "      <td>0.199919</td>\n",
              "      <td>0.163787</td>\n",
              "      <td>-0.163259</td>\n",
              "      <td>0.163900</td>\n",
              "    </tr>\n",
              "    <tr>\n",
              "      <th>VEHICLECLASS</th>\n",
              "      <td>NaN</td>\n",
              "      <td>0.025297</td>\n",
              "      <td>0.230920</td>\n",
              "      <td>1.000000</td>\n",
              "      <td>0.280839</td>\n",
              "      <td>0.272521</td>\n",
              "      <td>0.344440</td>\n",
              "      <td>0.426469</td>\n",
              "      <td>0.374635</td>\n",
              "      <td>-0.373861</td>\n",
              "      <td>0.393557</td>\n",
              "    </tr>\n",
              "    <tr>\n",
              "      <th>ENGINESIZE</th>\n",
              "      <td>NaN</td>\n",
              "      <td>-0.157698</td>\n",
              "      <td>0.078100</td>\n",
              "      <td>0.280839</td>\n",
              "      <td>1.000000</td>\n",
              "      <td>0.941816</td>\n",
              "      <td>0.885117</td>\n",
              "      <td>0.849250</td>\n",
              "      <td>0.879171</td>\n",
              "      <td>-0.878453</td>\n",
              "      <td>0.889973</td>\n",
              "    </tr>\n",
              "    <tr>\n",
              "      <th>CYLINDERS</th>\n",
              "      <td>NaN</td>\n",
              "      <td>-0.203642</td>\n",
              "      <td>0.072769</td>\n",
              "      <td>0.272521</td>\n",
              "      <td>0.941816</td>\n",
              "      <td>1.000000</td>\n",
              "      <td>0.864859</td>\n",
              "      <td>0.818107</td>\n",
              "      <td>0.854421</td>\n",
              "      <td>-0.854305</td>\n",
              "      <td>0.875330</td>\n",
              "    </tr>\n",
              "    <tr>\n",
              "      <th>FUELCONSUMPTION_CITY</th>\n",
              "      <td>NaN</td>\n",
              "      <td>-0.230768</td>\n",
              "      <td>0.143401</td>\n",
              "      <td>0.344440</td>\n",
              "      <td>0.885117</td>\n",
              "      <td>0.864859</td>\n",
              "      <td>1.000000</td>\n",
              "      <td>0.965144</td>\n",
              "      <td>0.995949</td>\n",
              "      <td>-0.995310</td>\n",
              "      <td>0.949859</td>\n",
              "    </tr>\n",
              "    <tr>\n",
              "      <th>FUELCONSUMPTION_HWY</th>\n",
              "      <td>NaN</td>\n",
              "      <td>-0.138933</td>\n",
              "      <td>0.199919</td>\n",
              "      <td>0.426469</td>\n",
              "      <td>0.849250</td>\n",
              "      <td>0.818107</td>\n",
              "      <td>0.965144</td>\n",
              "      <td>1.000000</td>\n",
              "      <td>0.984117</td>\n",
              "      <td>-0.983202</td>\n",
              "      <td>0.936560</td>\n",
              "    </tr>\n",
              "    <tr>\n",
              "      <th>FUELCONSUMPTION_COMB</th>\n",
              "      <td>NaN</td>\n",
              "      <td>-0.199743</td>\n",
              "      <td>0.163787</td>\n",
              "      <td>0.374635</td>\n",
              "      <td>0.879171</td>\n",
              "      <td>0.854421</td>\n",
              "      <td>0.995949</td>\n",
              "      <td>0.984117</td>\n",
              "      <td>1.000000</td>\n",
              "      <td>-0.999126</td>\n",
              "      <td>0.953496</td>\n",
              "    </tr>\n",
              "    <tr>\n",
              "      <th>FUELCONSUMPTION_COMB_MPG</th>\n",
              "      <td>NaN</td>\n",
              "      <td>0.204306</td>\n",
              "      <td>-0.163259</td>\n",
              "      <td>-0.373861</td>\n",
              "      <td>-0.878453</td>\n",
              "      <td>-0.854305</td>\n",
              "      <td>-0.995310</td>\n",
              "      <td>-0.983202</td>\n",
              "      <td>-0.999126</td>\n",
              "      <td>1.000000</td>\n",
              "      <td>-0.952809</td>\n",
              "    </tr>\n",
              "    <tr>\n",
              "      <th>CO2EMISSIONS</th>\n",
              "      <td>NaN</td>\n",
              "      <td>-0.174444</td>\n",
              "      <td>0.163900</td>\n",
              "      <td>0.393557</td>\n",
              "      <td>0.889973</td>\n",
              "      <td>0.875330</td>\n",
              "      <td>0.949859</td>\n",
              "      <td>0.936560</td>\n",
              "      <td>0.953496</td>\n",
              "      <td>-0.952809</td>\n",
              "      <td>1.000000</td>\n",
              "    </tr>\n",
              "  </tbody>\n",
              "</table>\n",
              "</div>\n",
              "      <button class=\"colab-df-convert\" onclick=\"convertToInteractive('df-52ab05f3-2f71-4564-bc10-7f134f85261d')\"\n",
              "              title=\"Convert this dataframe to an interactive table.\"\n",
              "              style=\"display:none;\">\n",
              "        \n",
              "  <svg xmlns=\"http://www.w3.org/2000/svg\" height=\"24px\"viewBox=\"0 0 24 24\"\n",
              "       width=\"24px\">\n",
              "    <path d=\"M0 0h24v24H0V0z\" fill=\"none\"/>\n",
              "    <path d=\"M18.56 5.44l.94 2.06.94-2.06 2.06-.94-2.06-.94-.94-2.06-.94 2.06-2.06.94zm-11 1L8.5 8.5l.94-2.06 2.06-.94-2.06-.94L8.5 2.5l-.94 2.06-2.06.94zm10 10l.94 2.06.94-2.06 2.06-.94-2.06-.94-.94-2.06-.94 2.06-2.06.94z\"/><path d=\"M17.41 7.96l-1.37-1.37c-.4-.4-.92-.59-1.43-.59-.52 0-1.04.2-1.43.59L10.3 9.45l-7.72 7.72c-.78.78-.78 2.05 0 2.83L4 21.41c.39.39.9.59 1.41.59.51 0 1.02-.2 1.41-.59l7.78-7.78 2.81-2.81c.8-.78.8-2.07 0-2.86zM5.41 20L4 18.59l7.72-7.72 1.47 1.35L5.41 20z\"/>\n",
              "  </svg>\n",
              "      </button>\n",
              "      \n",
              "  <style>\n",
              "    .colab-df-container {\n",
              "      display:flex;\n",
              "      flex-wrap:wrap;\n",
              "      gap: 12px;\n",
              "    }\n",
              "\n",
              "    .colab-df-convert {\n",
              "      background-color: #E8F0FE;\n",
              "      border: none;\n",
              "      border-radius: 50%;\n",
              "      cursor: pointer;\n",
              "      display: none;\n",
              "      fill: #1967D2;\n",
              "      height: 32px;\n",
              "      padding: 0 0 0 0;\n",
              "      width: 32px;\n",
              "    }\n",
              "\n",
              "    .colab-df-convert:hover {\n",
              "      background-color: #E2EBFA;\n",
              "      box-shadow: 0px 1px 2px rgba(60, 64, 67, 0.3), 0px 1px 3px 1px rgba(60, 64, 67, 0.15);\n",
              "      fill: #174EA6;\n",
              "    }\n",
              "\n",
              "    [theme=dark] .colab-df-convert {\n",
              "      background-color: #3B4455;\n",
              "      fill: #D2E3FC;\n",
              "    }\n",
              "\n",
              "    [theme=dark] .colab-df-convert:hover {\n",
              "      background-color: #434B5C;\n",
              "      box-shadow: 0px 1px 3px 1px rgba(0, 0, 0, 0.15);\n",
              "      filter: drop-shadow(0px 1px 2px rgba(0, 0, 0, 0.3));\n",
              "      fill: #FFFFFF;\n",
              "    }\n",
              "  </style>\n",
              "\n",
              "      <script>\n",
              "        const buttonEl =\n",
              "          document.querySelector('#df-52ab05f3-2f71-4564-bc10-7f134f85261d button.colab-df-convert');\n",
              "        buttonEl.style.display =\n",
              "          google.colab.kernel.accessAllowed ? 'block' : 'none';\n",
              "\n",
              "        async function convertToInteractive(key) {\n",
              "          const element = document.querySelector('#df-52ab05f3-2f71-4564-bc10-7f134f85261d');\n",
              "          const dataTable =\n",
              "            await google.colab.kernel.invokeFunction('convertToInteractive',\n",
              "                                                     [key], {});\n",
              "          if (!dataTable) return;\n",
              "\n",
              "          const docLinkHtml = 'Like what you see? Visit the ' +\n",
              "            '<a target=\"_blank\" href=https://colab.research.google.com/notebooks/data_table.ipynb>data table notebook</a>'\n",
              "            + ' to learn more about interactive tables.';\n",
              "          element.innerHTML = '';\n",
              "          dataTable['output_type'] = 'display_data';\n",
              "          await google.colab.output.renderOutput(dataTable, element);\n",
              "          const docLink = document.createElement('div');\n",
              "          docLink.innerHTML = docLinkHtml;\n",
              "          element.appendChild(docLink);\n",
              "        }\n",
              "      </script>\n",
              "    </div>\n",
              "  </div>\n",
              "  "
            ]
          },
          "metadata": {},
          "execution_count": 208
        }
      ]
    },
    {
      "cell_type": "code",
      "source": [
        "# Viewing the Spearman Correlation - no linear assumptions\n",
        "sns.heatmap( data.corr( 'spearman' ), annot=True )\n",
        "\n",
        "# We can see a better correlation of the parameters in relation to CO2 emissions through the Spearman Correlation"
      ],
      "metadata": {
        "colab": {
          "base_uri": "https://localhost:8080/",
          "height": 439
        },
        "id": "fsfKMLNqgKHa",
        "outputId": "d224fb41-057d-4ebc-9dec-572831012789"
      },
      "execution_count": 209,
      "outputs": [
        {
          "output_type": "execute_result",
          "data": {
            "text/plain": [
              "<matplotlib.axes._subplots.AxesSubplot at 0x7f1eab3675d0>"
            ]
          },
          "metadata": {},
          "execution_count": 209
        },
        {
          "output_type": "display_data",
          "data": {
            "text/plain": [
              "<Figure size 432x288 with 2 Axes>"
            ],
            "image/png": "[encoded data removed]"
          },
          "metadata": {
            "needs_background": "light"
          }
        }
      ]
    },
    {
      "cell_type": "markdown",
      "source": [
        "# Creating a smaller dataframe\n",
        "\n",
        "Only with the best correlation parameters (>= 0.88)"
      ],
      "metadata": {
        "id": "ikLNmqn9HV-t"
      }
    },
    {
      "cell_type": "code",
      "source": [
        "new_df = data[['ENGINESIZE', 'CYLINDERS', 'FUELCONSUMPTION_CITY','FUELCONSUMPTION_HWY', 'FUELCONSUMPTION_COMB', 'FUELCONSUMPTION_COMB_MPG','CO2EMISSIONS']]"
      ],
      "metadata": {
        "id": "0brKuCM5CzBA"
      },
      "execution_count": 151,
      "outputs": []
    },
    {
      "cell_type": "code",
      "source": [
        "new_df.head()"
      ],
      "metadata": {
        "colab": {
          "base_uri": "https://localhost:8080/",
          "height": 250
        },
        "id": "_BhOW_qoK9gj",
        "outputId": "b1c60ca4-7271-436d-8caa-9bb4f5d0f565"
      },
      "execution_count": 152,
      "outputs": [
        {
          "output_type": "execute_result",
          "data": {
            "text/plain": [
              "   ENGINESIZE  CYLINDERS  FUELCONSUMPTION_CITY  FUELCONSUMPTION_HWY  \\\n",
              "0         2.0          4                   9.9                  6.7   \n",
              "1         2.4          4                  11.2                  7.7   \n",
              "2         1.5          4                   6.0                  5.8   \n",
              "3         3.5          6                  12.7                  9.1   \n",
              "4         3.5          6                  12.1                  8.7   \n",
              "\n",
              "   FUELCONSUMPTION_COMB  FUELCONSUMPTION_COMB_MPG  CO2EMISSIONS  \n",
              "0                   8.5                        33           196  \n",
              "1                   9.6                        29           221  \n",
              "2                   5.9                        48           136  \n",
              "3                  11.1                        25           255  \n",
              "4                  10.6                        27           244  "
            ],
            "text/html": [
              "\n",
              "  <div id=\"df-8df2be67-79d6-49f0-bcf5-bf8f3e4775b3\">\n",
              "    <div class=\"colab-df-container\">\n",
              "      <div>\n",
              "<style scoped>\n",
              "    .dataframe tbody tr th:only-of-type {\n",
              "        vertical-align: middle;\n",
              "    }\n",
              "\n",
              "    .dataframe tbody tr th {\n",
              "        vertical-align: top;\n",
              "    }\n",
              "\n",
              "    .dataframe thead th {\n",
              "        text-align: right;\n",
              "    }\n",
              "</style>\n",
              "<table border=\"1\" class=\"dataframe\">\n",
              "  <thead>\n",
              "    <tr style=\"text-align: right;\">\n",
              "      <th></th>\n",
              "      <th>ENGINESIZE</th>\n",
              "      <th>CYLINDERS</th>\n",
              "      <th>FUELCONSUMPTION_CITY</th>\n",
              "      <th>FUELCONSUMPTION_HWY</th>\n",
              "      <th>FUELCONSUMPTION_COMB</th>\n",
              "      <th>FUELCONSUMPTION_COMB_MPG</th>\n",
              "      <th>CO2EMISSIONS</th>\n",
              "    </tr>\n",
              "  </thead>\n",
              "  <tbody>\n",
              "    <tr>\n",
              "      <th>0</th>\n",
              "      <td>2.0</td>\n",
              "      <td>4</td>\n",
              "      <td>9.9</td>\n",
              "      <td>6.7</td>\n",
              "      <td>8.5</td>\n",
              "      <td>33</td>\n",
              "      <td>196</td>\n",
              "    </tr>\n",
              "    <tr>\n",
              "      <th>1</th>\n",
              "      <td>2.4</td>\n",
              "      <td>4</td>\n",
              "      <td>11.2</td>\n",
              "      <td>7.7</td>\n",
              "      <td>9.6</td>\n",
              "      <td>29</td>\n",
              "      <td>221</td>\n",
              "    </tr>\n",
              "    <tr>\n",
              "      <th>2</th>\n",
              "      <td>1.5</td>\n",
              "      <td>4</td>\n",
              "      <td>6.0</td>\n",
              "      <td>5.8</td>\n",
              "      <td>5.9</td>\n",
              "      <td>48</td>\n",
              "      <td>136</td>\n",
              "    </tr>\n",
              "    <tr>\n",
              "      <th>3</th>\n",
              "      <td>3.5</td>\n",
              "      <td>6</td>\n",
              "      <td>12.7</td>\n",
              "      <td>9.1</td>\n",
              "      <td>11.1</td>\n",
              "      <td>25</td>\n",
              "      <td>255</td>\n",
              "    </tr>\n",
              "    <tr>\n",
              "      <th>4</th>\n",
              "      <td>3.5</td>\n",
              "      <td>6</td>\n",
              "      <td>12.1</td>\n",
              "      <td>8.7</td>\n",
              "      <td>10.6</td>\n",
              "      <td>27</td>\n",
              "      <td>244</td>\n",
              "    </tr>\n",
              "  </tbody>\n",
              "</table>\n",
              "</div>\n",
              "      <button class=\"colab-df-convert\" onclick=\"convertToInteractive('df-8df2be67-79d6-49f0-bcf5-bf8f3e4775b3')\"\n",
              "              title=\"Convert this dataframe to an interactive table.\"\n",
              "              style=\"display:none;\">\n",
              "        \n",
              "  <svg xmlns=\"http://www.w3.org/2000/svg\" height=\"24px\"viewBox=\"0 0 24 24\"\n",
              "       width=\"24px\">\n",
              "    <path d=\"M0 0h24v24H0V0z\" fill=\"none\"/>\n",
              "    <path d=\"M18.56 5.44l.94 2.06.94-2.06 2.06-.94-2.06-.94-.94-2.06-.94 2.06-2.06.94zm-11 1L8.5 8.5l.94-2.06 2.06-.94-2.06-.94L8.5 2.5l-.94 2.06-2.06.94zm10 10l.94 2.06.94-2.06 2.06-.94-2.06-.94-.94-2.06-.94 2.06-2.06.94z\"/><path d=\"M17.41 7.96l-1.37-1.37c-.4-.4-.92-.59-1.43-.59-.52 0-1.04.2-1.43.59L10.3 9.45l-7.72 7.72c-.78.78-.78 2.05 0 2.83L4 21.41c.39.39.9.59 1.41.59.51 0 1.02-.2 1.41-.59l7.78-7.78 2.81-2.81c.8-.78.8-2.07 0-2.86zM5.41 20L4 18.59l7.72-7.72 1.47 1.35L5.41 20z\"/>\n",
              "  </svg>\n",
              "      </button>\n",
              "      \n",
              "  <style>\n",
              "    .colab-df-container {\n",
              "      display:flex;\n",
              "      flex-wrap:wrap;\n",
              "      gap: 12px;\n",
              "    }\n",
              "\n",
              "    .colab-df-convert {\n",
              "      background-color: #E8F0FE;\n",
              "      border: none;\n",
              "      border-radius: 50%;\n",
              "      cursor: pointer;\n",
              "      display: none;\n",
              "      fill: #1967D2;\n",
              "      height: 32px;\n",
              "      padding: 0 0 0 0;\n",
              "      width: 32px;\n",
              "    }\n",
              "\n",
              "    .colab-df-convert:hover {\n",
              "      background-color: #E2EBFA;\n",
              "      box-shadow: 0px 1px 2px rgba(60, 64, 67, 0.3), 0px 1px 3px 1px rgba(60, 64, 67, 0.15);\n",
              "      fill: #174EA6;\n",
              "    }\n",
              "\n",
              "    [theme=dark] .colab-df-convert {\n",
              "      background-color: #3B4455;\n",
              "      fill: #D2E3FC;\n",
              "    }\n",
              "\n",
              "    [theme=dark] .colab-df-convert:hover {\n",
              "      background-color: #434B5C;\n",
              "      box-shadow: 0px 1px 3px 1px rgba(0, 0, 0, 0.15);\n",
              "      filter: drop-shadow(0px 1px 2px rgba(0, 0, 0, 0.3));\n",
              "      fill: #FFFFFF;\n",
              "    }\n",
              "  </style>\n",
              "\n",
              "      <script>\n",
              "        const buttonEl =\n",
              "          document.querySelector('#df-8df2be67-79d6-49f0-bcf5-bf8f3e4775b3 button.colab-df-convert');\n",
              "        buttonEl.style.display =\n",
              "          google.colab.kernel.accessAllowed ? 'block' : 'none';\n",
              "\n",
              "        async function convertToInteractive(key) {\n",
              "          const element = document.querySelector('#df-8df2be67-79d6-49f0-bcf5-bf8f3e4775b3');\n",
              "          const dataTable =\n",
              "            await google.colab.kernel.invokeFunction('convertToInteractive',\n",
              "                                                     [key], {});\n",
              "          if (!dataTable) return;\n",
              "\n",
              "          const docLinkHtml = 'Like what you see? Visit the ' +\n",
              "            '<a target=\"_blank\" href=https://colab.research.google.com/notebooks/data_table.ipynb>data table notebook</a>'\n",
              "            + ' to learn more about interactive tables.';\n",
              "          element.innerHTML = '';\n",
              "          dataTable['output_type'] = 'display_data';\n",
              "          await google.colab.output.renderOutput(dataTable, element);\n",
              "          const docLink = document.createElement('div');\n",
              "          docLink.innerHTML = docLinkHtml;\n",
              "          element.appendChild(docLink);\n",
              "        }\n",
              "      </script>\n",
              "    </div>\n",
              "  </div>\n",
              "  "
            ]
          },
          "metadata": {},
          "execution_count": 152
        }
      ]
    },
    {
      "cell_type": "code",
      "source": [
        "new_df.shape"
      ],
      "metadata": {
        "colab": {
          "base_uri": "https://localhost:8080/"
        },
        "id": "eo9WSqd2Q_jZ",
        "outputId": "090edf48-9219-48ac-b639-89cf010b6574"
      },
      "execution_count": 153,
      "outputs": [
        {
          "output_type": "execute_result",
          "data": {
            "text/plain": [
              "(1067, 7)"
            ]
          },
          "metadata": {},
          "execution_count": 153
        }
      ]
    },
    {
      "cell_type": "markdown",
      "source": [
        "# Division between predictors (x) and class (y)"
      ],
      "metadata": {
        "id": "-gQHkiTaMllz"
      }
    },
    {
      "cell_type": "code",
      "source": [
        "x_df = new_df.iloc[:,0:6].values\n",
        "x_df"
      ],
      "metadata": {
        "colab": {
          "base_uri": "https://localhost:8080/"
        },
        "id": "s-DSRcXuLZz5",
        "outputId": "134bcbe3-f57c-4e8e-8bad-e59930988442"
      },
      "execution_count": 154,
      "outputs": [
        {
          "output_type": "execute_result",
          "data": {
            "text/plain": [
              "array([[ 2. ,  4. ,  9.9,  6.7,  8.5, 33. ],\n",
              "       [ 2.4,  4. , 11.2,  7.7,  9.6, 29. ],\n",
              "       [ 1.5,  4. ,  6. ,  5.8,  5.9, 48. ],\n",
              "       ...,\n",
              "       [ 3. ,  6. , 13.4,  9.8, 11.8, 24. ],\n",
              "       [ 3.2,  6. , 12.9,  9.3, 11.3, 25. ],\n",
              "       [ 3.2,  6. , 14.9, 10.2, 12.8, 22. ]])"
            ]
          },
          "metadata": {},
          "execution_count": 154
        }
      ]
    },
    {
      "cell_type": "code",
      "source": [
        "x_df.shape"
      ],
      "metadata": {
        "colab": {
          "base_uri": "https://localhost:8080/"
        },
        "id": "VF1pc6klRDm4",
        "outputId": "afd09266-1597-43f7-ea9c-91b3c00f57d2"
      },
      "execution_count": 155,
      "outputs": [
        {
          "output_type": "execute_result",
          "data": {
            "text/plain": [
              "(1067, 6)"
            ]
          },
          "metadata": {},
          "execution_count": 155
        }
      ]
    },
    {
      "cell_type": "code",
      "source": [
        "y_df = new_df.iloc[:,6].values\n",
        "y_df"
      ],
      "metadata": {
        "colab": {
          "base_uri": "https://localhost:8080/"
        },
        "id": "r-Ez8P-ILq1X",
        "outputId": "8604e505-2b66-4517-eca4-16ec03db14f3"
      },
      "execution_count": 156,
      "outputs": [
        {
          "output_type": "execute_result",
          "data": {
            "text/plain": [
              "array([196, 221, 136, ..., 271, 260, 294])"
            ]
          },
          "metadata": {},
          "execution_count": 156
        }
      ]
    },
    {
      "cell_type": "code",
      "source": [
        "y_df.shape"
      ],
      "metadata": {
        "colab": {
          "base_uri": "https://localhost:8080/"
        },
        "id": "2ckEZ63wRGsB",
        "outputId": "4a096cf3-afa5-4c4a-a6e2-697b5c670b79"
      },
      "execution_count": 157,
      "outputs": [
        {
          "output_type": "execute_result",
          "data": {
            "text/plain": [
              "(1067,)"
            ]
          },
          "metadata": {},
          "execution_count": 157
        }
      ]
    },
    {
      "cell_type": "markdown",
      "source": [
        "# Escalation of values"
      ],
      "metadata": {
        "id": "TM8xaKncMoUt"
      }
    },
    {
      "cell_type": "code",
      "source": [
        "# Scaling the predictor variables\n",
        "from sklearn.preprocessing import StandardScaler\n",
        "scaler_data = StandardScaler()\n",
        "x_df = scaler_data.fit_transform(x_df)"
      ],
      "metadata": {
        "id": "GZdUeRccLvax"
      },
      "execution_count": 158,
      "outputs": []
    },
    {
      "cell_type": "code",
      "source": [
        "x_df"
      ],
      "metadata": {
        "colab": {
          "base_uri": "https://localhost:8080/"
        },
        "id": "CynncqUHMzHB",
        "outputId": "23d2e672-6301-43b2-a2f8-fa2ab10458c5"
      },
      "execution_count": 159,
      "outputs": [
        {
          "output_type": "execute_result",
          "data": {
            "text/plain": [
              "array([[-0.9512918 , -0.99896853, -0.82855772, -0.99334135, -0.88430407,\n",
              "         0.87855306],\n",
              "       [-0.66865251, -0.99896853, -0.5114328 , -0.63532912, -0.5685715 ,\n",
              "         0.34273362],\n",
              "       [-1.30459092, -0.99896853, -1.77993246, -1.31555236, -1.63058106,\n",
              "         2.88787597],\n",
              "       ...,\n",
              "       [-0.24469358,  0.11424235,  0.02524013,  0.11649658,  0.06289365,\n",
              "        -0.32704069],\n",
              "       [-0.10337393,  0.11424235, -0.09673099, -0.06250954, -0.08062116,\n",
              "        -0.19308583],\n",
              "       [-0.10337393,  0.11424235,  0.3911535 ,  0.25970147,  0.34992326,\n",
              "        -0.59495041]])"
            ]
          },
          "metadata": {},
          "execution_count": 159
        }
      ]
    },
    {
      "cell_type": "markdown",
      "source": [
        "# Splitting the database into training and testing"
      ],
      "metadata": {
        "id": "ixowD7f0QM9g"
      }
    },
    {
      "cell_type": "code",
      "source": [
        "from sklearn.model_selection import train_test_split"
      ],
      "metadata": {
        "id": "38UqIYJ0QPoj"
      },
      "execution_count": 160,
      "outputs": []
    },
    {
      "cell_type": "code",
      "source": [
        "x_df_training, x_df_testing, y_df_training, y_df_testing = train_test_split(x_df, y_df, test_size = 0.2, random_state = 0)"
      ],
      "metadata": {
        "id": "JsdLxp5QQT5I"
      },
      "execution_count": 161,
      "outputs": []
    },
    {
      "cell_type": "code",
      "source": [
        "x_df_training.shape , y_df_training.shape"
      ],
      "metadata": {
        "colab": {
          "base_uri": "https://localhost:8080/"
        },
        "id": "9uvW8Fz6QdPB",
        "outputId": "f45dbdbc-a884-434b-9335-930a623843ee"
      },
      "execution_count": 162,
      "outputs": [
        {
          "output_type": "execute_result",
          "data": {
            "text/plain": [
              "((853, 6), (853,))"
            ]
          },
          "metadata": {},
          "execution_count": 162
        }
      ]
    },
    {
      "cell_type": "code",
      "source": [
        "x_df_testing.shape , y_df_testing.shape"
      ],
      "metadata": {
        "colab": {
          "base_uri": "https://localhost:8080/"
        },
        "id": "dHH53WPYQjoy",
        "outputId": "ddbe56e0-45f7-4350-d3c3-bf7b10e27120"
      },
      "execution_count": 163,
      "outputs": [
        {
          "output_type": "execute_result",
          "data": {
            "text/plain": [
              "((214, 6), (214,))"
            ]
          },
          "metadata": {},
          "execution_count": 163
        }
      ]
    },
    {
      "cell_type": "markdown",
      "source": [
        "# Polynomial regression"
      ],
      "metadata": {
        "id": "FNdf_8JOWf_G"
      }
    },
    {
      "cell_type": "code",
      "source": [
        "# Creating a polynomial regression model with the training dataset\n",
        "from sklearn.preprocessing import PolynomialFeatures\n",
        "poly = PolynomialFeatures(degree = 2)\n",
        "x_df_training_poly = poly.fit_transform(x_df_training)\n",
        "x_df_testing_poly = poly.transform(x_df_testing)"
      ],
      "metadata": {
        "id": "fA8N8_SyWmVD"
      },
      "execution_count": 189,
      "outputs": []
    },
    {
      "cell_type": "code",
      "source": [
        "x_df_training_poly.shape, x_df_testing_poly.shape"
      ],
      "metadata": {
        "colab": {
          "base_uri": "https://localhost:8080/"
        },
        "id": "PhInjlIUXErV",
        "outputId": "5adda16d-43b8-44f1-ed85-e86c33487568"
      },
      "execution_count": 190,
      "outputs": [
        {
          "output_type": "execute_result",
          "data": {
            "text/plain": [
              "((853, 28), (214, 28))"
            ]
          },
          "metadata": {},
          "execution_count": 190
        }
      ]
    },
    {
      "cell_type": "code",
      "source": [
        "# algorithm training\n",
        "regressor_poly = LinearRegression()\n",
        "regressor_poly.fit(x_df_training_poly, y_df_training)"
      ],
      "metadata": {
        "colab": {
          "base_uri": "https://localhost:8080/"
        },
        "id": "uuLA-AsbXs7Y",
        "outputId": "bcc64f25-dac0-4219-dec5-c0912920907f"
      },
      "execution_count": 191,
      "outputs": [
        {
          "output_type": "execute_result",
          "data": {
            "text/plain": [
              "LinearRegression()"
            ]
          },
          "metadata": {},
          "execution_count": 191
        }
      ]
    },
    {
      "cell_type": "code",
      "source": [
        "# b0\n",
        "regressor_poly.intercept_"
      ],
      "metadata": {
        "colab": {
          "base_uri": "https://localhost:8080/"
        },
        "id": "61yDTbGIsNVt",
        "outputId": "89e17ec7-d5ad-489c-9a17-1f548ef08167"
      },
      "execution_count": 212,
      "outputs": [
        {
          "output_type": "execute_result",
          "data": {
            "text/plain": [
              "278.88120284043606"
            ]
          },
          "metadata": {},
          "execution_count": 212
        }
      ]
    },
    {
      "cell_type": "code",
      "source": [
        "# b(n) for each attribute x(n)\n",
        "regressor_poly.coef_"
      ],
      "metadata": {
        "colab": {
          "base_uri": "https://localhost:8080/"
        },
        "id": "9GtICaMEsQZO",
        "outputId": "b439ec00-845e-4eb4-fa59-c03b0215c306"
      },
      "execution_count": 213,
      "outputs": [
        {
          "output_type": "execute_result",
          "data": {
            "text/plain": [
              "array([ 3.84928158e-09,  4.03910661e+00,  1.60081960e+01, -3.32816539e+01,\n",
              "       -3.22329000e+00,  1.37908561e+02,  5.02563553e+01,  1.35130844e+01,\n",
              "       -2.56106428e+01,  1.47709073e+02,  1.06019515e+02, -2.29160041e+02,\n",
              "        1.80064154e+01, -1.68451741e+00, -3.10403477e+02, -1.87705560e+02,\n",
              "        5.19741257e+02, -1.31308360e+01, -3.95769499e+03, -4.86816434e+03,\n",
              "        1.27548559e+04, -1.33172562e+02, -1.40021763e+03,  7.57639460e+03,\n",
              "       -1.71843169e+02, -1.00913036e+04,  4.07904389e+02,  3.99401573e+01])"
            ]
          },
          "metadata": {},
          "execution_count": 213
        }
      ]
    },
    {
      "cell_type": "code",
      "source": [
        "# Model-generated predictions from the test dataset\n",
        "predictions = regressor_poly.predict(x_df_testing_poly)\n",
        "predictions"
      ],
      "metadata": {
        "colab": {
          "base_uri": "https://localhost:8080/"
        },
        "id": "zHSiEPHIYTu4",
        "outputId": "b050c628-be50-4f93-8ae2-d69a002c3dc3"
      },
      "execution_count": 193,
      "outputs": [
        {
          "output_type": "execute_result",
          "data": {
            "text/plain": [
              "array([365.63145125, 209.38164229, 226.35152932, 219.42125884,\n",
              "       177.02677686, 292.49147418, 214.77944841, 281.79262873,\n",
              "       204.34895458, 325.35223648, 285.15421368, 393.89572744,\n",
              "       194.26921902, 278.49244329, 191.39654969, 266.62694679,\n",
              "       349.34962517, 222.61091793, 254.62571647, 344.42794693,\n",
              "       196.42459605, 186.42292719, 252.05934831, 240.28600162,\n",
              "       135.04390236, 280.9789708 , 271.92401006, 343.99434843,\n",
              "       241.91226604, 187.66227612, 346.28841296, 227.45542433,\n",
              "       285.42894259, 246.73040287, 196.42459605, 197.97150711,\n",
              "       290.1242856 , 218.90060784, 232.40336953, 240.30911083,\n",
              "       188.87216616, 177.75168792, 208.82519607, 165.49596144,\n",
              "       300.34342917, 201.90343488, 235.00658001, 177.58384702,\n",
              "       363.11781101, 367.60580925, 316.84695069, 276.98304667,\n",
              "       277.92301827,  94.58403299, 225.71478504, 177.58384702,\n",
              "       284.33911381, 150.43827643, 260.56700097, 209.86760177,\n",
              "       210.95153327, 211.43094695, 221.33090441, 343.99434843,\n",
              "       265.40528596, 303.2431245 , 327.01255888, 284.06758622,\n",
              "       209.6091305 , 120.79202314, 294.79724122, 201.30383044,\n",
              "       324.76227655, 353.39033661, 321.43478375, 222.7490147 ,\n",
              "       274.24987393, 182.59693047, 226.49922931, 170.73776766,\n",
              "       198.55855702, 258.2128243 , 157.63010481, 324.50239999,\n",
              "       344.09056972, 248.83772756, 192.25550673, 180.09454797,\n",
              "       350.1021782 , 251.71835528, 268.72919117, 210.80329955,\n",
              "       240.18163161, 336.11378591, 350.4985637 , 356.41948976,\n",
              "       175.0227388 , 224.1681244 , 354.75975231, 271.40020412,\n",
              "       185.6139858 , 318.69340911,  95.68728727, 154.73334348,\n",
              "       203.75378693, 200.05747969, 204.76257181, 284.03601466,\n",
              "       194.30667195, 268.96286039, 214.50146593, 222.83302569,\n",
              "       265.79315327, 284.82572238, 326.51881362, 278.96585921,\n",
              "       296.18450493, 255.81050798, 369.42742028, 202.26078617,\n",
              "       262.33680015, 191.69270968, 358.96861653, 147.20324962,\n",
              "       177.58384702, 310.24419518, 281.79465126, 278.41083306,\n",
              "       275.64892193, 270.56903904, 234.91822711, 290.89253876,\n",
              "       183.55667165, 113.57265511, 372.5658779 , 368.35254341,\n",
              "       276.73267652, 181.56225074, 202.1268344 , 243.83508102,\n",
              "       305.45873124, 196.42459605, 336.11378591, 356.41948976,\n",
              "       192.74653108, 181.3211219 , 282.85899323, 338.28676855,\n",
              "       310.53090376, 127.97840101, 177.58384702, 261.76905089,\n",
              "       160.56325054, 244.3514083 , 311.67768075, 247.06769051,\n",
              "       277.81770139, 218.96934165, 333.36354489, 243.3696284 ,\n",
              "       176.97940273, 209.16344934, 182.65512268, 199.81929168,\n",
              "       247.20037103, 203.77141357, 267.98952023, 183.24802239,\n",
              "       384.70270918, 374.88678076, 267.59990914, 281.7578289 ,\n",
              "       242.21020679, 302.51722131, 291.11970034, 273.47724585,\n",
              "       268.77094161, 248.79510976, 183.24802239, 334.11932962,\n",
              "       295.80640603, 184.09327033, 312.03718482, 202.26078617,\n",
              "       307.61615873, 291.24549131, 208.85769615, 347.66211157,\n",
              "       183.24802239, 286.32940215, 267.61150636, 276.38019196,\n",
              "       247.4547183 , 237.96015802, 221.7230634 , 267.33890053,\n",
              "       243.28444937, 217.60163573, 267.39808804, 312.03718482,\n",
              "       260.73908759, 220.77789369, 239.97275754, 343.12544689,\n",
              "       294.22328015, 299.79684221, 298.183752  , 262.21474569,\n",
              "       357.69029516, 200.67190465, 219.40674957, 194.30667195,\n",
              "       183.24802239, 184.09327033])"
            ]
          },
          "metadata": {},
          "execution_count": 193
        }
      ]
    },
    {
      "cell_type": "code",
      "source": [
        "# Real answers\n",
        "y_df_testing"
      ],
      "metadata": {
        "colab": {
          "base_uri": "https://localhost:8080/"
        },
        "id": "ROa6OuqSri8d",
        "outputId": "d1568265-7711-4de3-aa01-034e296569f5"
      },
      "execution_count": 211,
      "outputs": [
        {
          "output_type": "execute_result",
          "data": {
            "text/plain": [
              "array([356, 209, 230, 212, 168, 292, 212, 276, 202, 334, 313, 437, 224,\n",
              "       281, 177, 260, 414, 223, 251, 359, 191, 189, 244, 242, 131, 283,\n",
              "       274, 294, 246, 110, 359, 239, 229, 237, 191, 196, 294, 221, 237,\n",
              "       237, 184, 184, 202, 194, 297, 198, 260, 179, 344, 359, 338, 288,\n",
              "       290, 129, 230, 179, 283, 159, 258, 209, 207, 205, 225, 294, 262,\n",
              "       299, 354, 230, 207, 124, 304, 189, 354, 270, 338, 216, 283, 179,\n",
              "       235, 166, 186, 253, 161, 334, 407, 246, 191, 172, 290, 258, 262,\n",
              "       209, 283, 342, 356, 368, 168, 221, 368, 262, 182, 320, 126, 166,\n",
              "       202, 196, 200, 288, 191, 259, 214, 228, 269, 317, 327, 294, 292,\n",
              "       244, 361, 200, 258, 191, 382, 147, 179, 310, 229, 237, 292, 264,\n",
              "       230, 294, 184, 136, 344, 373, 283, 110, 198, 232, 262, 191, 342,\n",
              "       368, 189, 175, 285, 345, 301, 138, 179, 251, 161, 235, 310, 242,\n",
              "       292, 221, 324, 235, 177, 209, 177, 202, 242, 205, 264, 184, 400,\n",
              "       334, 260, 285, 235, 301, 281, 276, 265, 242, 184, 345, 292, 184,\n",
              "       317, 200, 347, 290, 205, 350, 184, 290, 267, 271, 239, 232, 218,\n",
              "       269, 228, 216, 255, 317, 260, 225, 223, 329, 290, 288, 294, 258,\n",
              "       380, 198, 221, 191, 184, 184])"
            ]
          },
          "metadata": {},
          "execution_count": 211
        }
      ]
    },
    {
      "cell_type": "markdown",
      "source": [
        "# Evaluating the model"
      ],
      "metadata": {
        "id": "fhdvP06Xt60u"
      }
    },
    {
      "cell_type": "code",
      "source": [
        "# Checking the R-square \n",
        "regressor_poly.score(x_df_testing_poly, y_df_testing)\n",
        "\n",
        "\n",
        "# Model prediction ability = 91.84%. That is, almost 92% of the data variability can be explained by the generated model.\n",
        "\n",
        "# For prediction purposes, minimums of 70% are suggested (PULIDO et al., 2012)."
      ],
      "metadata": {
        "colab": {
          "base_uri": "https://localhost:8080/"
        },
        "id": "BkkOSHkzrdd3",
        "outputId": "031c9fb6-49bd-48d4-f39a-3595d8f5ac33"
      },
      "execution_count": 210,
      "outputs": [
        {
          "output_type": "execute_result",
          "data": {
            "text/plain": [
              "0.9184210829335036"
            ]
          },
          "metadata": {},
          "execution_count": 210
        }
      ]
    },
    {
      "cell_type": "code",
      "source": [
        "# Checking the mean absolute error\n",
        "from sklearn.metrics import mean_absolute_error\n",
        "mean_absolute_error(y_df_testing, predictions)\n",
        "\n",
        "# MAE = 10.87\n",
        "\n",
        "# The mean absolute error of a model with respect to a test set is the mean of the absolute \n",
        "# values of the individual prediction errors on over all instances in the test set."
      ],
      "metadata": {
        "colab": {
          "base_uri": "https://localhost:8080/"
        },
        "id": "GfSMtWDuYqcF",
        "outputId": "be8c6126-8a2c-40ad-b7f0-ec0ea0a0019f"
      },
      "execution_count": 194,
      "outputs": [
        {
          "output_type": "execute_result",
          "data": {
            "text/plain": [
              "10.872742175595155"
            ]
          },
          "metadata": {},
          "execution_count": 194
        }
      ]
    }
  ]
}